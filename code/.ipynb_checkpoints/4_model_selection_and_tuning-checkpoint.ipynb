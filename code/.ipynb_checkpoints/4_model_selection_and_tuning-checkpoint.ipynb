{
 "cells": [
  {
   "cell_type": "markdown",
   "metadata": {},
   "source": [
    "# General Assembly DSI 13 EC \n",
    "# Project 3 - Web APIs & NLP\n",
    "## Mike Bell \n",
    "### October 23, 2020"
   ]
  },
  {
   "cell_type": "markdown",
   "metadata": {},
   "source": [
    "## Notebook 3: Model Selection, Tuning, and Evaluation\n",
    "\n",
    "In this final notebook we use the data curated in notebooks 1 and 2 to train and tune various classification models. \n",
    "\n",
    "We initially consider 10 different models (knn, SVM, LogisticRegression, Decision Trees, Random Forest, Bagged Trees, ExtraTrees, Adaboost Trees, Gradient Boosted Trees, and Naive Bayes. We also have a choice of vectorizer to use (CountVectorizer or TF-IDF), giving a total of 40 vectorizer + model combinations. To try to prune this list down, we decide to evaluate all 40 models using default scikit-learn parameters on a 70/30 train test split and cross-validation on the training set. \n",
    "\n",
    "The 3 types of models which perform best are selected for further parameter tuning via cross-validated gridsearching, and we also include RandomForest for a total of 4 types of classifier + 2 vectorizers for each  = 8 vectorizer, model pairs. After tuning hyperparameters for each of these 8 pairs, we perform a final evaluation.\n",
    "\n",
    "Accuracy will be the primary metric we will use to evaluate our models, however precision, specificity, and sensitivity will also be computed. \n",
    "\n",
    "Finally, once a production model is chosen, we use it to gain insight into which features/words are most important in this classification task. We also see how this model, which was trained on a very small set of data, performs on the total collection of ~140,000 examples we were able to collect.\n",
    "\n"
   ]
  },
  {
   "cell_type": "code",
   "execution_count": 1,
   "metadata": {},
   "outputs": [],
   "source": [
    "import numpy as np\n",
    "import pandas as pd\n",
    "import matplotlib.pyplot as plt\n",
    "import seaborn as sns\n",
    "\n",
    "from sklearn.preprocessing import StandardScaler\n",
    "\n",
    "from sklearn.model_selection import cross_val_score, cross_val_predict \n",
    "from sklearn.model_selection import train_test_split, GridSearchCV, StratifiedKFold\n",
    "\n",
    "\n",
    "from sklearn.pipeline import Pipeline\n",
    "from sklearn.metrics import confusion_matrix, plot_confusion_matrix\n",
    "\n",
    "\n",
    "from sklearn.feature_extraction.text import CountVectorizer, TfidfVectorizer\n",
    "\n",
    "\n",
    "from sklearn.neighbors import KNeighborsClassifier\n",
    "from sklearn.ensemble import RandomForestClassifier, ExtraTreesClassifier, GradientBoostingClassifier, AdaBoostClassifier\n",
    "from sklearn.tree import DecisionTreeClassifier\n",
    "from sklearn.ensemble import BaggingClassifier\n",
    "from sklearn.naive_bayes import MultinomialNB\n",
    "from sklearn.linear_model import LogisticRegression\n",
    "from sklearn.svm import SVC\n",
    "\n",
    "pd.set_option('display.max_rows', 10000)\n",
    "pd.set_option('display.max_columns', 10000)"
   ]
  },
  {
   "cell_type": "code",
   "execution_count": 15,
   "metadata": {},
   "outputs": [],
   "source": [
    "\n",
    "# This function performs 5-fold cross-validation on a training set and returns statistics such as \n",
    "# mean CV accuracy scores on training, along with specificity, sensitivity, precision, F1 scores\n",
    "# along with the entries of the associated confusion matrix on the test set.\n",
    "\n",
    "def eval_pipe(pipe, X_train, y_train, X_test, y_val, verbose = True):\n",
    "    \n",
    "    score = cross_val_score(pipe, X_train, y_train, cv = 5, scoring = 'accuracy', n_jobs=-1)\n",
    "    pipe.fit(X_train, y_train)\n",
    "    y_hat = pipe.predict(X_test)\n",
    "    tn, fp, fn, tp = confusion_matrix(y_val, y_hat).ravel()\n",
    "    precision = tp/(tp + fp)\n",
    "    recall = tp/(tp+fn)\n",
    "    \n",
    "    if(verbose):\n",
    "        print('======== Score Report =======')\n",
    "        print('')\n",
    "        print(f'Model: {type(model)}')\n",
    "        print(f'Params: {pipe.get_params()}')\n",
    "\n",
    "        print('')\n",
    "        print('******** Cross-Validation Scores ********')\n",
    "        print(f'Mean 5-fold CV accuracy: {score.mean()}')\n",
    "\n",
    "        print(' ')\n",
    "\n",
    "        print('******** Test Scores ********')\n",
    "        print(f'True Positives: {tp}')\n",
    "        print(f'True Negatives: {tn}')\n",
    "        print(f'False Positives: {fp}')\n",
    "        print(f'False Negatives: {fn}')\n",
    "        print('')\n",
    "        print('')\n",
    "\n",
    "        print(f'Accuracy: {pipe.score(X_test, y_val)}')\n",
    "        print(f'Sensitivity/Recall (TPR): {recall}')\n",
    "        print(f'Specificity (TNR): {tn/(tn+fp)}')\n",
    "        print(f'Precision: {precision}')\n",
    "        print(f'F1 Score: {2*(precision*recall)/(precision+recall)}')\n",
    "        print('')      \n",
    "        print('======================')\n",
    "        print('')   \n",
    "    \n",
    "    return {'train_score' : pipe.score(X_train, y_train), 'cv_score': score.mean(), 'test_score': pipe.score(X_test, y_val), \n",
    "            'tn': tn, 'tp': tp, 'fn': fn, 'fp':fp}"
   ]
  },
  {
   "cell_type": "code",
   "execution_count": 16,
   "metadata": {},
   "outputs": [],
   "source": [
    "subreddits = [ 'math', 'physics']\n",
    "\n",
    "subreddit_dir = f'../data/{subreddits[0]}_{subreddits[1]}_data/'\n",
    "\n",
    "df = pd.read_csv(f'{subreddit_dir}{subreddits[0]}_{subreddits[1]}_combined_lem.csv', keep_default_na = False)\n",
    "#df = df.sample(n = 100)"
   ]
  },
  {
   "cell_type": "code",
   "execution_count": 17,
   "metadata": {},
   "outputs": [
    {
     "data": {
      "text/html": [
       "<div>\n",
       "<style scoped>\n",
       "    .dataframe tbody tr th:only-of-type {\n",
       "        vertical-align: middle;\n",
       "    }\n",
       "\n",
       "    .dataframe tbody tr th {\n",
       "        vertical-align: top;\n",
       "    }\n",
       "\n",
       "    .dataframe thead th {\n",
       "        text-align: right;\n",
       "    }\n",
       "</style>\n",
       "<table border=\"1\" class=\"dataframe\">\n",
       "  <thead>\n",
       "    <tr style=\"text-align: right;\">\n",
       "      <th></th>\n",
       "      <th>title</th>\n",
       "      <th>selftext</th>\n",
       "      <th>text</th>\n",
       "      <th>lem_text</th>\n",
       "      <th>subreddit</th>\n",
       "    </tr>\n",
       "  </thead>\n",
       "  <tbody>\n",
       "    <tr>\n",
       "      <th>0</th>\n",
       "      <td>undecidability decidability help</td>\n",
       "      <td>hello looking somebody experienced undecidabil...</td>\n",
       "      <td>undecidability decidability help hello looking...</td>\n",
       "      <td>undecidability decidability help hello looking...</td>\n",
       "      <td>0</td>\n",
       "    </tr>\n",
       "    <tr>\n",
       "      <th>1</th>\n",
       "      <td>probability</td>\n",
       "      <td>okay game get hooked chance getting tries get ...</td>\n",
       "      <td>probability okay game get hooked chance gettin...</td>\n",
       "      <td>probability okay game get hooked chance gettin...</td>\n",
       "      <td>0</td>\n",
       "    </tr>\n",
       "    <tr>\n",
       "      <th>2</th>\n",
       "      <td>anyone else feel though current prodigy cultur...</td>\n",
       "      <td>whenever talk people mathematics seems like ev...</td>\n",
       "      <td>anyone else feel though current prodigy cultur...</td>\n",
       "      <td>anyone else feel though current prodigy cultur...</td>\n",
       "      <td>0</td>\n",
       "    </tr>\n",
       "    <tr>\n",
       "      <th>3</th>\n",
       "      <td>infinite always equal another infinite</td>\n",
       "      <td>let say infinite number boxes front red ball i...</td>\n",
       "      <td>infinite always equal another infinite let say...</td>\n",
       "      <td>infinite always equal another infinite let say...</td>\n",
       "      <td>0</td>\n",
       "    </tr>\n",
       "    <tr>\n",
       "      <th>4</th>\n",
       "      <td>unit something thousand</td>\n",
       "      <td></td>\n",
       "      <td>unit something thousand</td>\n",
       "      <td>unit something thousand</td>\n",
       "      <td>0</td>\n",
       "    </tr>\n",
       "  </tbody>\n",
       "</table>\n",
       "</div>"
      ],
      "text/plain": [
       "                                               title  \\\n",
       "0                   undecidability decidability help   \n",
       "1                                        probability   \n",
       "2  anyone else feel though current prodigy cultur...   \n",
       "3             infinite always equal another infinite   \n",
       "4                            unit something thousand   \n",
       "\n",
       "                                            selftext  \\\n",
       "0  hello looking somebody experienced undecidabil...   \n",
       "1  okay game get hooked chance getting tries get ...   \n",
       "2  whenever talk people mathematics seems like ev...   \n",
       "3  let say infinite number boxes front red ball i...   \n",
       "4                                                      \n",
       "\n",
       "                                                text  \\\n",
       "0  undecidability decidability help hello looking...   \n",
       "1  probability okay game get hooked chance gettin...   \n",
       "2  anyone else feel though current prodigy cultur...   \n",
       "3  infinite always equal another infinite let say...   \n",
       "4                           unit something thousand    \n",
       "\n",
       "                                            lem_text  subreddit  \n",
       "0  undecidability decidability help hello looking...          0  \n",
       "1  probability okay game get hooked chance gettin...          0  \n",
       "2  anyone else feel though current prodigy cultur...          0  \n",
       "3  infinite always equal another infinite let say...          0  \n",
       "4                            unit something thousand          0  "
      ]
     },
     "execution_count": 17,
     "metadata": {},
     "output_type": "execute_result"
    }
   ],
   "source": [
    "df.head()"
   ]
  },
  {
   "cell_type": "code",
   "execution_count": 18,
   "metadata": {},
   "outputs": [
    {
     "data": {
      "text/plain": [
       "(2140, 5)"
      ]
     },
     "execution_count": 18,
     "metadata": {},
     "output_type": "execute_result"
    }
   ],
   "source": [
    "df.shape"
   ]
  },
  {
   "cell_type": "code",
   "execution_count": 19,
   "metadata": {},
   "outputs": [],
   "source": [
    "X = df['lem_text']\n",
    "y = df['subreddit']\n",
    "\n",
    "X_train, X_test, y_train, y_test = train_test_split(X,y,random_state = 42, stratify = y, test_size = 0.3)\n",
    "\n"
   ]
  },
  {
   "cell_type": "code",
   "execution_count": null,
   "metadata": {},
   "outputs": [],
   "source": []
  },
  {
   "cell_type": "markdown",
   "metadata": {},
   "source": [
    "# Basic Model Evaluation\n",
    "\n",
    "We compare 10 models using default scikit-learn parameters, and choose the best performing ones for further hyperparameter tuning. We also look at 4 combinations of vectorizers (Count/TFIDF with bigrams on or off).\n",
    "\n"
   ]
  },
  {
   "cell_type": "code",
   "execution_count": 26,
   "metadata": {},
   "outputs": [
    {
     "data": {
      "text/plain": [
       "1    0.506008\n",
       "0    0.493992\n",
       "Name: subreddit, dtype: float64"
      ]
     },
     "execution_count": 26,
     "metadata": {},
     "output_type": "execute_result"
    }
   ],
   "source": [
    "# baseline scores, the data is very close to being even\n",
    "y_train.value_counts(normalize=True)"
   ]
  },
  {
   "cell_type": "code",
   "execution_count": 27,
   "metadata": {
    "scrolled": false
   },
   "outputs": [
    {
     "name": "stdout",
     "output_type": "stream",
     "text": [
      "Currently on vectorizer cvec_ngram_(1,1).\n",
      "Currently on vectorizer cvec_ngram_(1,2).\n",
      "Currently on vectorizer tvec_ngram_(1,1).\n",
      "Currently on vectorizer tvec_ngram_(1,2).\n"
     ]
    }
   ],
   "source": [
    "\n",
    "# Our 10 models to be evaluated\n",
    "knn = KNeighborsClassifier()\n",
    "nb = MultinomialNB()\n",
    "logreg = LogisticRegression(max_iter = 10000000)\n",
    "dt = DecisionTreeClassifier(random_state = 42)\n",
    "bag = BaggingClassifier(random_state = 42)\n",
    "rf = RandomForestClassifier(random_state = 42)\n",
    "et  = ExtraTreesClassifier(random_state = 42)\n",
    "ada = AdaBoostClassifier(base_estimator=DecisionTreeClassifier())\n",
    "gboost = GradientBoostingClassifier()\n",
    "svc = SVC()\n",
    "\n",
    "\n",
    "# To save our results for easier viewing, we save each model and vectorizer with a name to add\n",
    "# to a dictionary / dataframe\n",
    "models = [('knn', knn), ('nb',nb), ('logreg', logreg), ('cart', dt), \n",
    "          ('bagging',bag) , ('randomforest', rf),('extratree', et),\n",
    "          ('adaboost',ada),('gradientboost', gboost), ('svm',svc)]\n",
    "\n",
    "vectorizers = [('cvec_ngram_(1,1)', CountVectorizer(ngram_range = (1,1))), ('cvec_ngram_(1,2)', CountVectorizer(ngram_range = (1,2))), \n",
    "              ('tvec_ngram_(1,1)', TfidfVectorizer(ngram_range=(1,1))), ('tvec_ngram_(1,2)', TfidfVectorizer(ngram_range=(1,2)))]\n",
    "\n",
    "scores = []                                    \n",
    "for vect_pair in vectorizers: \n",
    "    \n",
    "\n",
    "    print(f'Currently on vectorizer {vect_pair[0]}.')\n",
    "    for model_pair in models: \n",
    "        \n",
    "       \n",
    "        pipe = Pipeline([(vect_pair), model_pair])\n",
    "        score = {}\n",
    "        score['model'] = model_pair[0]\n",
    "        score['vect'] = vect_pair[0]\n",
    "        score.update(eval_pipe(pipe, X_train, y_train, X_test, y_test, verbose = False))\n",
    "        scores.append(score)\n",
    "        "
   ]
  },
  {
   "cell_type": "code",
   "execution_count": 28,
   "metadata": {},
   "outputs": [],
   "source": [
    "default_model_scores = pd.DataFrame(scores).sort_values('test_score', ascending = False).reset_index(drop = True)"
   ]
  },
  {
   "cell_type": "code",
   "execution_count": 50,
   "metadata": {},
   "outputs": [
    {
     "data": {
      "text/html": [
       "<div>\n",
       "<style scoped>\n",
       "    .dataframe tbody tr th:only-of-type {\n",
       "        vertical-align: middle;\n",
       "    }\n",
       "\n",
       "    .dataframe tbody tr th {\n",
       "        vertical-align: top;\n",
       "    }\n",
       "\n",
       "    .dataframe thead th {\n",
       "        text-align: right;\n",
       "    }\n",
       "</style>\n",
       "<table border=\"1\" class=\"dataframe\">\n",
       "  <thead>\n",
       "    <tr style=\"text-align: right;\">\n",
       "      <th></th>\n",
       "      <th>model</th>\n",
       "      <th>vect</th>\n",
       "      <th>train_score</th>\n",
       "      <th>cv_score</th>\n",
       "      <th>test_score</th>\n",
       "      <th>tn</th>\n",
       "      <th>tp</th>\n",
       "      <th>fn</th>\n",
       "      <th>fp</th>\n",
       "    </tr>\n",
       "  </thead>\n",
       "  <tbody>\n",
       "    <tr>\n",
       "      <th>0</th>\n",
       "      <td>logreg</td>\n",
       "      <td>tvec_ngram_(1,2)</td>\n",
       "      <td>0.993324</td>\n",
       "      <td>0.892513</td>\n",
       "      <td>0.904984</td>\n",
       "      <td>291</td>\n",
       "      <td>290</td>\n",
       "      <td>35</td>\n",
       "      <td>26</td>\n",
       "    </tr>\n",
       "    <tr>\n",
       "      <th>1</th>\n",
       "      <td>svm</td>\n",
       "      <td>tvec_ngram_(1,2)</td>\n",
       "      <td>0.998665</td>\n",
       "      <td>0.892508</td>\n",
       "      <td>0.903427</td>\n",
       "      <td>291</td>\n",
       "      <td>289</td>\n",
       "      <td>36</td>\n",
       "      <td>26</td>\n",
       "    </tr>\n",
       "    <tr>\n",
       "      <th>2</th>\n",
       "      <td>svm</td>\n",
       "      <td>tvec_ngram_(1,1)</td>\n",
       "      <td>0.995995</td>\n",
       "      <td>0.892506</td>\n",
       "      <td>0.898754</td>\n",
       "      <td>286</td>\n",
       "      <td>291</td>\n",
       "      <td>34</td>\n",
       "      <td>31</td>\n",
       "    </tr>\n",
       "    <tr>\n",
       "      <th>3</th>\n",
       "      <td>logreg</td>\n",
       "      <td>tvec_ngram_(1,1)</td>\n",
       "      <td>0.980641</td>\n",
       "      <td>0.893846</td>\n",
       "      <td>0.895639</td>\n",
       "      <td>284</td>\n",
       "      <td>291</td>\n",
       "      <td>34</td>\n",
       "      <td>33</td>\n",
       "    </tr>\n",
       "    <tr>\n",
       "      <th>4</th>\n",
       "      <td>logreg</td>\n",
       "      <td>cvec_ngram_(1,1)</td>\n",
       "      <td>0.992657</td>\n",
       "      <td>0.875817</td>\n",
       "      <td>0.894081</td>\n",
       "      <td>280</td>\n",
       "      <td>294</td>\n",
       "      <td>31</td>\n",
       "      <td>37</td>\n",
       "    </tr>\n",
       "    <tr>\n",
       "      <th>5</th>\n",
       "      <td>logreg</td>\n",
       "      <td>cvec_ngram_(1,2)</td>\n",
       "      <td>0.997330</td>\n",
       "      <td>0.865137</td>\n",
       "      <td>0.883178</td>\n",
       "      <td>270</td>\n",
       "      <td>297</td>\n",
       "      <td>28</td>\n",
       "      <td>47</td>\n",
       "    </tr>\n",
       "    <tr>\n",
       "      <th>6</th>\n",
       "      <td>nb</td>\n",
       "      <td>cvec_ngram_(1,1)</td>\n",
       "      <td>0.966622</td>\n",
       "      <td>0.885184</td>\n",
       "      <td>0.883178</td>\n",
       "      <td>282</td>\n",
       "      <td>285</td>\n",
       "      <td>40</td>\n",
       "      <td>35</td>\n",
       "    </tr>\n",
       "    <tr>\n",
       "      <th>7</th>\n",
       "      <td>nb</td>\n",
       "      <td>cvec_ngram_(1,2)</td>\n",
       "      <td>0.990654</td>\n",
       "      <td>0.883862</td>\n",
       "      <td>0.880062</td>\n",
       "      <td>289</td>\n",
       "      <td>276</td>\n",
       "      <td>49</td>\n",
       "      <td>28</td>\n",
       "    </tr>\n",
       "    <tr>\n",
       "      <th>8</th>\n",
       "      <td>nb</td>\n",
       "      <td>tvec_ngram_(1,1)</td>\n",
       "      <td>0.972630</td>\n",
       "      <td>0.868497</td>\n",
       "      <td>0.875389</td>\n",
       "      <td>295</td>\n",
       "      <td>267</td>\n",
       "      <td>58</td>\n",
       "      <td>22</td>\n",
       "    </tr>\n",
       "    <tr>\n",
       "      <th>9</th>\n",
       "      <td>nb</td>\n",
       "      <td>tvec_ngram_(1,2)</td>\n",
       "      <td>0.994660</td>\n",
       "      <td>0.874504</td>\n",
       "      <td>0.872274</td>\n",
       "      <td>294</td>\n",
       "      <td>266</td>\n",
       "      <td>59</td>\n",
       "      <td>23</td>\n",
       "    </tr>\n",
       "  </tbody>\n",
       "</table>\n",
       "</div>"
      ],
      "text/plain": [
       "    model              vect  train_score  cv_score  test_score   tn   tp  fn  \\\n",
       "0  logreg  tvec_ngram_(1,2)     0.993324  0.892513    0.904984  291  290  35   \n",
       "1     svm  tvec_ngram_(1,2)     0.998665  0.892508    0.903427  291  289  36   \n",
       "2     svm  tvec_ngram_(1,1)     0.995995  0.892506    0.898754  286  291  34   \n",
       "3  logreg  tvec_ngram_(1,1)     0.980641  0.893846    0.895639  284  291  34   \n",
       "4  logreg  cvec_ngram_(1,1)     0.992657  0.875817    0.894081  280  294  31   \n",
       "5  logreg  cvec_ngram_(1,2)     0.997330  0.865137    0.883178  270  297  28   \n",
       "6      nb  cvec_ngram_(1,1)     0.966622  0.885184    0.883178  282  285  40   \n",
       "7      nb  cvec_ngram_(1,2)     0.990654  0.883862    0.880062  289  276  49   \n",
       "8      nb  tvec_ngram_(1,1)     0.972630  0.868497    0.875389  295  267  58   \n",
       "9      nb  tvec_ngram_(1,2)     0.994660  0.874504    0.872274  294  266  59   \n",
       "\n",
       "   fp  \n",
       "0  26  \n",
       "1  26  \n",
       "2  31  \n",
       "3  33  \n",
       "4  37  \n",
       "5  47  \n",
       "6  35  \n",
       "7  28  \n",
       "8  22  \n",
       "9  23  "
      ]
     },
     "execution_count": 50,
     "metadata": {},
     "output_type": "execute_result"
    }
   ],
   "source": [
    "default_model_scores.head(10)"
   ]
  },
  {
   "cell_type": "code",
   "execution_count": 55,
   "metadata": {},
   "outputs": [
    {
     "name": "stdout",
     "output_type": "stream",
     "text": [
      "|    | model         | vect             |   train_score |   cv_score |   test_score |   tn |   tp |   fn |   fp |\n",
      "|---:|:--------------|:-----------------|--------------:|-----------:|-------------:|-----:|-----:|-----:|-----:|\n",
      "|  0 | logreg        | tvec_ngram_(1,2) |      0.993324 |   0.892513 |     0.904984 |  291 |  290 |   35 |   26 |\n",
      "|  1 | svm           | tvec_ngram_(1,2) |      0.998665 |   0.892508 |     0.903427 |  291 |  289 |   36 |   26 |\n",
      "|  2 | svm           | tvec_ngram_(1,1) |      0.995995 |   0.892506 |     0.898754 |  286 |  291 |   34 |   31 |\n",
      "|  3 | logreg        | tvec_ngram_(1,1) |      0.980641 |   0.893846 |     0.895639 |  284 |  291 |   34 |   33 |\n",
      "|  4 | logreg        | cvec_ngram_(1,1) |      0.992657 |   0.875817 |     0.894081 |  280 |  294 |   31 |   37 |\n",
      "|  5 | logreg        | cvec_ngram_(1,2) |      0.99733  |   0.865137 |     0.883178 |  270 |  297 |   28 |   47 |\n",
      "|  6 | nb            | cvec_ngram_(1,1) |      0.966622 |   0.885184 |     0.883178 |  282 |  285 |   40 |   35 |\n",
      "|  7 | nb            | cvec_ngram_(1,2) |      0.990654 |   0.883862 |     0.880062 |  289 |  276 |   49 |   28 |\n",
      "|  8 | nb            | tvec_ngram_(1,1) |      0.97263  |   0.868497 |     0.875389 |  295 |  267 |   58 |   22 |\n",
      "|  9 | nb            | tvec_ngram_(1,2) |      0.99466  |   0.874504 |     0.872274 |  294 |  266 |   59 |   23 |\n",
      "| 10 | extratree     | tvec_ngram_(1,1) |      0.998665 |   0.853128 |     0.862928 |  274 |  280 |   45 |   43 |\n",
      "| 11 | randomforest  | tvec_ngram_(1,1) |      0.998665 |   0.846475 |     0.856698 |  265 |  285 |   40 |   52 |\n",
      "| 12 | extratree     | tvec_ngram_(1,2) |      0.998665 |   0.833779 |     0.842679 |  258 |  283 |   42 |   59 |\n",
      "| 13 | randomforest  | cvec_ngram_(1,1) |      0.998665 |   0.833106 |     0.842679 |  263 |  278 |   47 |   54 |\n",
      "| 14 | extratree     | cvec_ngram_(1,1) |      0.998665 |   0.829779 |     0.842679 |  272 |  269 |   56 |   45 |\n",
      "| 15 | gradientboost | tvec_ngram_(1,1) |      0.911883 |   0.831097 |     0.841121 |  239 |  301 |   24 |   78 |\n",
      "| 16 | gradientboost | tvec_ngram_(1,2) |      0.917891 |   0.835097 |     0.839564 |  239 |  300 |   25 |   78 |\n",
      "| 17 | gradientboost | cvec_ngram_(1,1) |      0.903872 |   0.835104 |     0.838006 |  234 |  304 |   21 |   83 |\n",
      "| 18 | adaboost      | cvec_ngram_(1,2) |      0.998665 |   0.813741 |     0.834891 |  258 |  278 |   47 |   59 |\n",
      "| 19 | gradientboost | cvec_ngram_(1,2) |      0.905207 |   0.833764 |     0.833333 |  232 |  303 |   22 |   85 |\n",
      "| 20 | bagging       | cvec_ngram_(1,1) |      0.986649 |   0.808392 |     0.833333 |  256 |  279 |   46 |   61 |\n",
      "| 21 | bagging       | cvec_ngram_(1,2) |      0.985314 |   0.803037 |     0.833333 |  250 |  285 |   40 |   67 |\n",
      "| 22 | randomforest  | cvec_ngram_(1,2) |      0.998665 |   0.816412 |     0.831776 |  250 |  284 |   41 |   67 |\n",
      "| 23 | extratree     | cvec_ngram_(1,2) |      0.998665 |   0.81641  |     0.831776 |  249 |  285 |   40 |   68 |\n",
      "| 24 | svm           | cvec_ngram_(1,1) |      0.900534 |   0.803057 |     0.831776 |  237 |  297 |   28 |   80 |\n",
      "| 25 | randomforest  | tvec_ngram_(1,2) |      0.998665 |   0.818415 |     0.830218 |  252 |  281 |   44 |   65 |\n",
      "| 26 | bagging       | tvec_ngram_(1,1) |      0.985981 |   0.803048 |     0.830218 |  253 |  280 |   45 |   64 |\n",
      "| 27 | adaboost      | tvec_ngram_(1,1) |      0.998665 |   0.823732 |     0.827103 |  261 |  270 |   55 |   56 |\n",
      "| 28 | adaboost      | cvec_ngram_(1,1) |      0.998665 |   0.818404 |     0.823988 |  268 |  261 |   64 |   49 |\n",
      "| 29 | svm           | cvec_ngram_(1,2) |      0.901869 |   0.779023 |     0.820872 |  219 |  308 |   17 |   98 |\n",
      "| 30 | cart          | cvec_ngram_(1,2) |      0.998665 |   0.807079 |     0.817757 |  250 |  275 |   50 |   67 |\n",
      "| 31 | cart          | tvec_ngram_(1,1) |      0.998665 |   0.808384 |     0.814642 |  259 |  264 |   61 |   58 |\n",
      "| 32 | cart          | cvec_ngram_(1,1) |      0.998665 |   0.805059 |     0.808411 |  256 |  263 |   62 |   61 |\n",
      "| 33 | adaboost      | tvec_ngram_(1,2) |      0.998665 |   0.815735 |     0.806854 |  260 |  258 |   67 |   57 |\n",
      "| 34 | bagging       | tvec_ngram_(1,2) |      0.987316 |   0.802401 |     0.797508 |  258 |  254 |   71 |   59 |\n",
      "| 35 | cart          | tvec_ngram_(1,2) |      0.998665 |   0.797035 |     0.794393 |  262 |  248 |   77 |   55 |\n",
      "| 36 | knn           | tvec_ngram_(1,2) |      0.871162 |   0.818417 |     0.788162 |  214 |  292 |   33 |  103 |\n",
      "| 37 | knn           | tvec_ngram_(1,1) |      0.875167 |   0.811077 |     0.786604 |  213 |  292 |   33 |  104 |\n",
      "| 38 | knn           | cvec_ngram_(1,1) |      0.769693 |   0.692225 |     0.696262 |  136 |  311 |   14 |  181 |\n",
      "| 39 | knn           | cvec_ngram_(1,2) |      0.67223  |   0.586116 |     0.613707 |   72 |  322 |    3 |  245 |\n"
     ]
    }
   ],
   "source": [
    "from tabulate import tabulate\n",
    "\n",
    "print(tabulate(default_model_scores, tablefmt=\"pipe\", headers=\"keys\", ))"
   ]
  },
  {
   "cell_type": "code",
   "execution_count": 283,
   "metadata": {},
   "outputs": [],
   "source": [
    "default_model_scores.to_csv(f'../data/{subreddit_dir}{subreddits[0]}_{subreddits[1]}_default_model_scores.csv', index = False)"
   ]
  },
  {
   "cell_type": "code",
   "execution_count": 32,
   "metadata": {},
   "outputs": [],
   "source": [
    "def pipe_gridsearch(pipelines, X_train, y_train, X_val, y_val):\n",
    "    scores = []\n",
    "    for pipe_data in pipelines: \n",
    "        if 'ss' in pipe_data.keys():\n",
    "            pipe = Pipeline([\n",
    "                ('vect', pipe_data['vect']),\n",
    "                ('ss', pipe_data['ss']),\n",
    "                (pipe_data['name'], pipe_data['model'])\n",
    "                ])\n",
    "        else:\n",
    "            pipe = Pipeline([\n",
    "                    ('vect', pipe_data['vect']),\n",
    "                    (pipe_data['name'], pipe_data['model'])\n",
    "                    ])\n",
    "        \n",
    "        \n",
    "        gs = GridSearchCV(pipe, # what object are we optimizing?\n",
    "                          param_grid=pipe_data['param_grid'], # what parameters values are we searching?\n",
    "                          cv=5, n_jobs=4, verbose = 1) # 5-fold cross-validation.\n",
    "        \n",
    "       \n",
    "    \n",
    "        gs.fit(X_train, y_train)\n",
    "        score = gs.best_score_\n",
    "\n",
    "        print('======== Score Report =======')\n",
    "        print('')\n",
    "        print(f'Model: {type(pipe_data[\"model\"])}')\n",
    "        print(f'Vectorizer: {pipe_data[\"vect\"]}')\n",
    "        print('')\n",
    "        print('')\n",
    "        print(f'Best Parameters: {gs.best_params_}')\n",
    "\n",
    "        print('')\n",
    "        print('******** Cross-Validation Scores ********')\n",
    "        print(f'Mean 5-fold CV accuracy: {gs.best_score_}')\n",
    "      \n",
    "\n",
    "        y_hat = gs.predict(X_val)\n",
    "        print(' ')\n",
    "        tn, fp, fn, tp = confusion_matrix(y_val, y_hat).ravel()\n",
    "        print('******** Test/Validation Scores ********')\n",
    "        print(f'True Positives: {tp}')\n",
    "        print(f'True Negatives: {tn}')\n",
    "        print(f'False Positives: {fp}')\n",
    "        print(f'False Negatives: {fn}')\n",
    "        print('')\n",
    "        print('')\n",
    "        precision = tp/(tp + fp)\n",
    "        recall = tp/(tp+fn)\n",
    "        print(f'Accuracy: {gs.score(X_val, y_val)}')\n",
    "        print(f'Sensitivity/Recall (TPR): {recall}')\n",
    "        print(f'Specificity (TNR): {tn/(tn+fp)}')\n",
    "        print(f'Precision: {precision}')\n",
    "        print(f'F1 Score: {2*(precision*recall)/(precision+recall)}')\n",
    "        print('')      \n",
    "        print('======================')\n",
    "        print('')      \n",
    "        \n",
    "        curr_score = {}\n",
    "        curr_score['name'] = pipe_data['name']\n",
    "        curr_score['best_params'] = gs.best_params_\n",
    "        curr_score['cv_score'] = gs.best_score_\n",
    "        curr_score['val_score'] = gs.score(X_val, y_val)\n",
    "        curr_score['tp'] = tp\n",
    "        curr_score['tn'] = tn\n",
    "        curr_score['fp'] = fp\n",
    "        curr_score['fn'] = fn\n",
    "        scores.append(curr_score)\n",
    "    return scores"
   ]
  },
  {
   "cell_type": "code",
   "execution_count": 37,
   "metadata": {},
   "outputs": [],
   "source": [
    "pipelines = [\n",
    "    {\n",
    "        'name': 'naive_bayes_cvec', \n",
    "        'vect': CountVectorizer(), \n",
    "        'model': MultinomialNB(), \n",
    "        'param_grid' : {\n",
    "                'vect__min_df': [1, 2, 5, 10],\n",
    "                'vect__max_df': [.5, .75,.9, 1.0],\n",
    "                'vect__ngram_range': [(1,1), (1,2)], \n",
    "                'naive_bayes_cvec__alpha': np.linspace(0.01, 1, 5)\n",
    "            }\n",
    "        \n",
    "    }, \n",
    "    {\n",
    "        'name': 'naive_bayes_tvec', \n",
    "        'vect': TfidfVectorizer(), \n",
    "        'model': MultinomialNB(), \n",
    "        'param_grid' : {\n",
    "                'vect__max_df': [.5, .75,.9, 1.0],\n",
    "                'vect__ngram_range': [(1,1), (1,2)], \n",
    "                'naive_bayes_tvec__alpha': np.linspace(0.01, 1, 5)\n",
    "            }\n",
    "        \n",
    "    }, \n",
    "    {\n",
    "        'name': 'logistic_regression_cvec', \n",
    "        'vect': CountVectorizer(), \n",
    "        'model': LogisticRegression(max_iter=1000000), \n",
    "        'param_grid' : {                \n",
    "                'vect__max_df': [.5, .75, .9, 1.0],\n",
    "                'vect__ngram_range': [(1,1), (1,2)],\n",
    "                'logistic_regression_cvec__C' : [0.0001, 0.01, 0.1, 1, 10]\n",
    "        }\n",
    "    },\n",
    "    {\n",
    "        'name': 'logistic_regression_tvec', \n",
    "        'vect': TfidfVectorizer(),\n",
    "        'model': LogisticRegression(max_iter=1000000),\n",
    "        'param_grid' : {\n",
    "                'vect__max_df': [.5, .75,.9, 1.0],\n",
    "                'vect__ngram_range': [(1,1), (1,2)],\n",
    "                'logistic_regression_tvec__C' : [0.0001, 0.01, 0.1, 1, 10]\n",
    "        }\n",
    "    },\n",
    "     \n",
    "    {\n",
    "        'name': 'svm_cvec', \n",
    "        'vect': CountVectorizer(), \n",
    "        'model': SVC(), \n",
    "        'param_grid' : {\n",
    "                'vect__max_df': [.5, .8, 1.0],\n",
    "                'vect__ngram_range': [(1,1), (1,2)],\n",
    "                'svm_cvec__C': [1.0, 10, 100], \n",
    "                'svm_cvec__gamma': ['auto', 'scale', 1, .1, .01],\n",
    "                'svm_cvec__kernel' : ['linear', 'rbf']\n",
    "        }\n",
    "    },\n",
    "    {\n",
    "        'name': 'svm_tvec', \n",
    "        'vect': TfidfVectorizer(), \n",
    "        'model': SVC(), \n",
    "        'param_grid' : {\n",
    "                'vect__max_df': [.5, .8, 1.0],\n",
    "                'vect__ngram_range': [(1,1), (1,2)],\n",
    "                'svm_tvec__C': [1.0, 10, 100], \n",
    "                'svm_tvec__gamma': ['auto', 'scale', 1, .1, .01],\n",
    "                'svm_tvec__kernel' : ['linear', 'rbf']\n",
    "        }\n",
    "    },\n",
    "    {\n",
    "        'name': 'rf_cvec', \n",
    "        'vect': CountVectorizer(), \n",
    "        'model': RandomForestClassifier(), \n",
    "        'param_grid' : {\n",
    "                'vect__max_df': [.5,  1.0],\n",
    "                'vect__ngram_range': [(1,1), (1,2)],\n",
    "                'rf_cvec__n_estimators': [100, 200, 500],\n",
    "                'rf_cvec__max_depth': [None, 2, 4, 6, 8, 10]\n",
    "        }\n",
    "    },\n",
    "    {\n",
    "        'name': 'rf_tvec', \n",
    "        'vect': TfidfVectorizer(), \n",
    "        'model': RandomForestClassifier(), \n",
    "        'param_grid' : {\n",
    "                'vect__max_df': [.5,  1.0],\n",
    "                'vect__ngram_range': [(1,1), (1,2)],\n",
    "                'rf_tvec__n_estimators': [100, 200, 500],\n",
    "                'rf_tvec__max_depth': [None, 2, 4, 6, 8, 10]\n",
    "        }\n",
    "    }\n",
    "]"
   ]
  },
  {
   "cell_type": "code",
   "execution_count": 38,
   "metadata": {
    "scrolled": false
   },
   "outputs": [
    {
     "name": "stdout",
     "output_type": "stream",
     "text": [
      "Fitting 5 folds for each of 160 candidates, totalling 800 fits\n"
     ]
    },
    {
     "name": "stderr",
     "output_type": "stream",
     "text": [
      "[Parallel(n_jobs=4)]: Using backend LokyBackend with 4 concurrent workers.\n",
      "[Parallel(n_jobs=4)]: Done  42 tasks      | elapsed:    9.7s\n",
      "[Parallel(n_jobs=4)]: Done 192 tasks      | elapsed:   57.9s\n",
      "[Parallel(n_jobs=4)]: Done 442 tasks      | elapsed:  2.1min\n",
      "[Parallel(n_jobs=4)]: Done 792 tasks      | elapsed:  3.5min\n",
      "[Parallel(n_jobs=4)]: Done 800 out of 800 | elapsed:  3.5min finished\n"
     ]
    },
    {
     "name": "stdout",
     "output_type": "stream",
     "text": [
      "======== Score Report =======\n",
      "\n",
      "Model: <class 'sklearn.naive_bayes.MultinomialNB'>\n",
      "Vectorizer: CountVectorizer(analyzer='word', binary=False, decode_error='strict',\n",
      "                dtype=<class 'numpy.int64'>, encoding='utf-8', input='content',\n",
      "                lowercase=True, max_df=1.0, max_features=None, min_df=1,\n",
      "                ngram_range=(1, 1), preprocessor=None, stop_words=None,\n",
      "                strip_accents=None, token_pattern='(?u)\\\\b\\\\w\\\\w+\\\\b',\n",
      "                tokenizer=None, vocabulary=None)\n",
      "\n",
      "\n",
      "Best Parameters: {'naive_bayes_cvec__alpha': 0.2575, 'vect__max_df': 0.5, 'vect__min_df': 1, 'vect__ngram_range': (1, 2)}\n",
      "\n",
      "******** Cross-Validation Scores ********\n",
      "Mean 5-fold CV accuracy: 0.8931973244147157\n",
      " \n",
      "******** Test/Validation Scores ********\n",
      "True Positives: 276\n",
      "True Negatives: 279\n",
      "False Positives: 38\n",
      "False Negatives: 49\n",
      "\n",
      "\n",
      "Accuracy: 0.8644859813084113\n",
      "Sensitivity/Recall (TPR): 0.8492307692307692\n",
      "Specificity (TNR): 0.8801261829652997\n",
      "Precision: 0.8789808917197452\n",
      "F1 Score: 0.863849765258216\n",
      "\n",
      "======================\n",
      "\n",
      "Fitting 5 folds for each of 40 candidates, totalling 200 fits\n"
     ]
    },
    {
     "name": "stderr",
     "output_type": "stream",
     "text": [
      "[Parallel(n_jobs=4)]: Using backend LokyBackend with 4 concurrent workers.\n",
      "[Parallel(n_jobs=4)]: Done  42 tasks      | elapsed:    7.9s\n",
      "[Parallel(n_jobs=4)]: Done 192 tasks      | elapsed:   25.7s\n",
      "[Parallel(n_jobs=4)]: Done 200 out of 200 | elapsed:   26.7s finished\n"
     ]
    },
    {
     "name": "stdout",
     "output_type": "stream",
     "text": [
      "======== Score Report =======\n",
      "\n",
      "Model: <class 'sklearn.naive_bayes.MultinomialNB'>\n",
      "Vectorizer: TfidfVectorizer(analyzer='word', binary=False, decode_error='strict',\n",
      "                dtype=<class 'numpy.float64'>, encoding='utf-8',\n",
      "                input='content', lowercase=True, max_df=1.0, max_features=None,\n",
      "                min_df=1, ngram_range=(1, 1), norm='l2', preprocessor=None,\n",
      "                smooth_idf=True, stop_words=None, strip_accents=None,\n",
      "                sublinear_tf=False, token_pattern='(?u)\\\\b\\\\w\\\\w+\\\\b',\n",
      "                tokenizer=None, use_idf=True, vocabulary=None)\n",
      "\n",
      "\n",
      "Best Parameters: {'naive_bayes_tvec__alpha': 0.2575, 'vect__max_df': 0.5, 'vect__ngram_range': (1, 2)}\n",
      "\n",
      "******** Cross-Validation Scores ********\n",
      "Mean 5-fold CV accuracy: 0.8791839464882942\n",
      " \n",
      "******** Test/Validation Scores ********\n",
      "True Positives: 269\n",
      "True Negatives: 291\n",
      "False Positives: 26\n",
      "False Negatives: 56\n",
      "\n",
      "\n",
      "Accuracy: 0.8722741433021807\n",
      "Sensitivity/Recall (TPR): 0.8276923076923077\n",
      "Specificity (TNR): 0.917981072555205\n",
      "Precision: 0.911864406779661\n",
      "F1 Score: 0.867741935483871\n",
      "\n",
      "======================\n",
      "\n",
      "Fitting 5 folds for each of 40 candidates, totalling 200 fits\n"
     ]
    },
    {
     "name": "stderr",
     "output_type": "stream",
     "text": [
      "[Parallel(n_jobs=4)]: Using backend LokyBackend with 4 concurrent workers.\n",
      "[Parallel(n_jobs=4)]: Done  42 tasks      | elapsed:    5.5s\n",
      "[Parallel(n_jobs=4)]: Done 192 tasks      | elapsed:   33.3s\n",
      "[Parallel(n_jobs=4)]: Done 200 out of 200 | elapsed:   35.9s finished\n"
     ]
    },
    {
     "name": "stdout",
     "output_type": "stream",
     "text": [
      "======== Score Report =======\n",
      "\n",
      "Model: <class 'sklearn.linear_model._logistic.LogisticRegression'>\n",
      "Vectorizer: CountVectorizer(analyzer='word', binary=False, decode_error='strict',\n",
      "                dtype=<class 'numpy.int64'>, encoding='utf-8', input='content',\n",
      "                lowercase=True, max_df=1.0, max_features=None, min_df=1,\n",
      "                ngram_range=(1, 1), preprocessor=None, stop_words=None,\n",
      "                strip_accents=None, token_pattern='(?u)\\\\b\\\\w\\\\w+\\\\b',\n",
      "                tokenizer=None, vocabulary=None)\n",
      "\n",
      "\n",
      "Best Parameters: {'logistic_regression_cvec__C': 1, 'vect__max_df': 0.5, 'vect__ngram_range': (1, 1)}\n",
      "\n",
      "******** Cross-Validation Scores ********\n",
      "Mean 5-fold CV accuracy: 0.8758171683389074\n",
      " \n",
      "******** Test/Validation Scores ********\n",
      "True Positives: 294\n",
      "True Negatives: 280\n",
      "False Positives: 37\n",
      "False Negatives: 31\n",
      "\n",
      "\n",
      "Accuracy: 0.8940809968847352\n",
      "Sensitivity/Recall (TPR): 0.9046153846153846\n",
      "Specificity (TNR): 0.8832807570977917\n",
      "Precision: 0.8882175226586103\n",
      "F1 Score: 0.8963414634146342\n",
      "\n",
      "======================\n",
      "\n",
      "Fitting 5 folds for each of 40 candidates, totalling 200 fits\n"
     ]
    },
    {
     "name": "stderr",
     "output_type": "stream",
     "text": [
      "[Parallel(n_jobs=4)]: Using backend LokyBackend with 4 concurrent workers.\n",
      "[Parallel(n_jobs=4)]: Done  42 tasks      | elapsed:    4.9s\n",
      "[Parallel(n_jobs=4)]: Done 192 tasks      | elapsed:   28.9s\n",
      "[Parallel(n_jobs=4)]: Done 200 out of 200 | elapsed:   30.9s finished\n"
     ]
    },
    {
     "name": "stdout",
     "output_type": "stream",
     "text": [
      "======== Score Report =======\n",
      "\n",
      "Model: <class 'sklearn.linear_model._logistic.LogisticRegression'>\n",
      "Vectorizer: TfidfVectorizer(analyzer='word', binary=False, decode_error='strict',\n",
      "                dtype=<class 'numpy.float64'>, encoding='utf-8',\n",
      "                input='content', lowercase=True, max_df=1.0, max_features=None,\n",
      "                min_df=1, ngram_range=(1, 1), norm='l2', preprocessor=None,\n",
      "                smooth_idf=True, stop_words=None, strip_accents=None,\n",
      "                sublinear_tf=False, token_pattern='(?u)\\\\b\\\\w\\\\w+\\\\b',\n",
      "                tokenizer=None, use_idf=True, vocabulary=None)\n",
      "\n",
      "\n",
      "Best Parameters: {'logistic_regression_tvec__C': 1, 'vect__max_df': 0.5, 'vect__ngram_range': (1, 1)}\n",
      "\n",
      "******** Cross-Validation Scores ********\n",
      "Mean 5-fold CV accuracy: 0.8938461538461538\n",
      " \n",
      "******** Test/Validation Scores ********\n",
      "True Positives: 291\n",
      "True Negatives: 284\n",
      "False Positives: 33\n",
      "False Negatives: 34\n",
      "\n",
      "\n",
      "Accuracy: 0.8956386292834891\n",
      "Sensitivity/Recall (TPR): 0.8953846153846153\n",
      "Specificity (TNR): 0.8958990536277602\n",
      "Precision: 0.8981481481481481\n",
      "F1 Score: 0.896764252696456\n",
      "\n",
      "======================\n",
      "\n",
      "Fitting 5 folds for each of 180 candidates, totalling 900 fits\n"
     ]
    },
    {
     "name": "stderr",
     "output_type": "stream",
     "text": [
      "[Parallel(n_jobs=4)]: Using backend LokyBackend with 4 concurrent workers.\n",
      "[Parallel(n_jobs=4)]: Done  42 tasks      | elapsed:   13.3s\n",
      "[Parallel(n_jobs=4)]: Done 192 tasks      | elapsed:  1.1min\n",
      "[Parallel(n_jobs=4)]: Done 442 tasks      | elapsed:  2.7min\n",
      "[Parallel(n_jobs=4)]: Done 792 tasks      | elapsed:  4.9min\n",
      "[Parallel(n_jobs=4)]: Done 900 out of 900 | elapsed:  5.7min finished\n"
     ]
    },
    {
     "name": "stdout",
     "output_type": "stream",
     "text": [
      "======== Score Report =======\n",
      "\n",
      "Model: <class 'sklearn.svm._classes.SVC'>\n",
      "Vectorizer: CountVectorizer(analyzer='word', binary=False, decode_error='strict',\n",
      "                dtype=<class 'numpy.int64'>, encoding='utf-8', input='content',\n",
      "                lowercase=True, max_df=1.0, max_features=None, min_df=1,\n",
      "                ngram_range=(1, 1), preprocessor=None, stop_words=None,\n",
      "                strip_accents=None, token_pattern='(?u)\\\\b\\\\w\\\\w+\\\\b',\n",
      "                tokenizer=None, vocabulary=None)\n",
      "\n",
      "\n",
      "Best Parameters: {'svm_cvec__C': 10, 'svm_cvec__gamma': 'scale', 'svm_cvec__kernel': 'rbf', 'vect__max_df': 0.5, 'vect__ngram_range': (1, 2)}\n",
      "\n",
      "******** Cross-Validation Scores ********\n",
      "Mean 5-fold CV accuracy: 0.8571348940914157\n",
      " \n",
      "******** Test/Validation Scores ********\n",
      "True Positives: 292\n",
      "True Negatives: 265\n",
      "False Positives: 52\n",
      "False Negatives: 33\n",
      "\n",
      "\n",
      "Accuracy: 0.867601246105919\n",
      "Sensitivity/Recall (TPR): 0.8984615384615384\n",
      "Specificity (TNR): 0.8359621451104101\n",
      "Precision: 0.8488372093023255\n",
      "F1 Score: 0.8729446935724963\n",
      "\n",
      "======================\n",
      "\n",
      "Fitting 5 folds for each of 180 candidates, totalling 900 fits\n"
     ]
    },
    {
     "name": "stderr",
     "output_type": "stream",
     "text": [
      "[Parallel(n_jobs=4)]: Using backend LokyBackend with 4 concurrent workers.\n",
      "[Parallel(n_jobs=4)]: Done  42 tasks      | elapsed:   17.4s\n",
      "[Parallel(n_jobs=4)]: Done 192 tasks      | elapsed:  1.3min\n",
      "[Parallel(n_jobs=4)]: Done 442 tasks      | elapsed:  2.8min\n",
      "[Parallel(n_jobs=4)]: Done 792 tasks      | elapsed:  6.0min\n",
      "[Parallel(n_jobs=4)]: Done 900 out of 900 | elapsed:  7.0min finished\n"
     ]
    },
    {
     "name": "stdout",
     "output_type": "stream",
     "text": [
      "======== Score Report =======\n",
      "\n",
      "Model: <class 'sklearn.svm._classes.SVC'>\n",
      "Vectorizer: TfidfVectorizer(analyzer='word', binary=False, decode_error='strict',\n",
      "                dtype=<class 'numpy.float64'>, encoding='utf-8',\n",
      "                input='content', lowercase=True, max_df=1.0, max_features=None,\n",
      "                min_df=1, ngram_range=(1, 1), norm='l2', preprocessor=None,\n",
      "                smooth_idf=True, stop_words=None, strip_accents=None,\n",
      "                sublinear_tf=False, token_pattern='(?u)\\\\b\\\\w\\\\w+\\\\b',\n",
      "                tokenizer=None, use_idf=True, vocabulary=None)\n",
      "\n",
      "\n",
      "Best Parameters: {'svm_tvec__C': 10, 'svm_tvec__gamma': 'scale', 'svm_tvec__kernel': 'rbf', 'vect__max_df': 0.5, 'vect__ngram_range': (1, 2)}\n",
      "\n",
      "******** Cross-Validation Scores ********\n",
      "Mean 5-fold CV accuracy: 0.8965039018952062\n",
      " \n",
      "******** Test/Validation Scores ********\n",
      "True Positives: 286\n",
      "True Negatives: 291\n",
      "False Positives: 26\n",
      "False Negatives: 39\n",
      "\n",
      "\n",
      "Accuracy: 0.8987538940809969\n",
      "Sensitivity/Recall (TPR): 0.88\n",
      "Specificity (TNR): 0.917981072555205\n",
      "Precision: 0.9166666666666666\n",
      "F1 Score: 0.8979591836734694\n",
      "\n",
      "======================\n",
      "\n",
      "Fitting 5 folds for each of 72 candidates, totalling 360 fits\n"
     ]
    },
    {
     "name": "stderr",
     "output_type": "stream",
     "text": [
      "[Parallel(n_jobs=4)]: Using backend LokyBackend with 4 concurrent workers.\n",
      "[Parallel(n_jobs=4)]: Done  42 tasks      | elapsed:  1.1min\n",
      "[Parallel(n_jobs=4)]: Done 192 tasks      | elapsed:  4.2min\n",
      "[Parallel(n_jobs=4)]: Done 360 out of 360 | elapsed:  6.3min finished\n"
     ]
    },
    {
     "name": "stdout",
     "output_type": "stream",
     "text": [
      "======== Score Report =======\n",
      "\n",
      "Model: <class 'sklearn.ensemble._forest.RandomForestClassifier'>\n",
      "Vectorizer: CountVectorizer(analyzer='word', binary=False, decode_error='strict',\n",
      "                dtype=<class 'numpy.int64'>, encoding='utf-8', input='content',\n",
      "                lowercase=True, max_df=1.0, max_features=None, min_df=1,\n",
      "                ngram_range=(1, 1), preprocessor=None, stop_words=None,\n",
      "                strip_accents=None, token_pattern='(?u)\\\\b\\\\w\\\\w+\\\\b',\n",
      "                tokenizer=None, vocabulary=None)\n",
      "\n",
      "\n",
      "Best Parameters: {'rf_cvec__max_depth': None, 'rf_cvec__n_estimators': 200, 'vect__max_df': 1.0, 'vect__ngram_range': (1, 1)}\n",
      "\n",
      "******** Cross-Validation Scores ********\n",
      "Mean 5-fold CV accuracy: 0.8464615384615385\n",
      " \n",
      "******** Test/Validation Scores ********\n",
      "True Positives: 291\n",
      "True Negatives: 264\n",
      "False Positives: 53\n",
      "False Negatives: 34\n",
      "\n",
      "\n",
      "Accuracy: 0.8644859813084113\n",
      "Sensitivity/Recall (TPR): 0.8953846153846153\n",
      "Specificity (TNR): 0.832807570977918\n",
      "Precision: 0.8459302325581395\n",
      "F1 Score: 0.8699551569506726\n",
      "\n",
      "======================\n",
      "\n",
      "Fitting 5 folds for each of 72 candidates, totalling 360 fits\n"
     ]
    },
    {
     "name": "stderr",
     "output_type": "stream",
     "text": [
      "[Parallel(n_jobs=4)]: Using backend LokyBackend with 4 concurrent workers.\n",
      "[Parallel(n_jobs=4)]: Done  42 tasks      | elapsed:   58.1s\n",
      "[Parallel(n_jobs=4)]: Done 192 tasks      | elapsed:  3.7min\n",
      "[Parallel(n_jobs=4)]: Done 360 out of 360 | elapsed:  5.7min finished\n"
     ]
    },
    {
     "name": "stdout",
     "output_type": "stream",
     "text": [
      "======== Score Report =======\n",
      "\n",
      "Model: <class 'sklearn.ensemble._forest.RandomForestClassifier'>\n",
      "Vectorizer: TfidfVectorizer(analyzer='word', binary=False, decode_error='strict',\n",
      "                dtype=<class 'numpy.float64'>, encoding='utf-8',\n",
      "                input='content', lowercase=True, max_df=1.0, max_features=None,\n",
      "                min_df=1, ngram_range=(1, 1), norm='l2', preprocessor=None,\n",
      "                smooth_idf=True, stop_words=None, strip_accents=None,\n",
      "                sublinear_tf=False, token_pattern='(?u)\\\\b\\\\w\\\\w+\\\\b',\n",
      "                tokenizer=None, use_idf=True, vocabulary=None)\n",
      "\n",
      "\n",
      "Best Parameters: {'rf_tvec__max_depth': None, 'rf_tvec__n_estimators': 200, 'vect__max_df': 0.5, 'vect__ngram_range': (1, 1)}\n",
      "\n",
      "******** Cross-Validation Scores ********\n",
      "Mean 5-fold CV accuracy: 0.8457904124860647\n",
      " \n",
      "******** Test/Validation Scores ********\n",
      "True Positives: 287\n",
      "True Negatives: 261\n",
      "False Positives: 56\n",
      "False Negatives: 38\n",
      "\n",
      "\n",
      "Accuracy: 0.8535825545171339\n",
      "Sensitivity/Recall (TPR): 0.8830769230769231\n",
      "Specificity (TNR): 0.8233438485804416\n",
      "Precision: 0.8367346938775511\n",
      "F1 Score: 0.8592814371257484\n",
      "\n",
      "======================\n",
      "\n"
     ]
    }
   ],
   "source": [
    "pipe_scores = pipe_gridsearch(pipelines, X_train, y_train, X_test, y_test)"
   ]
  },
  {
   "cell_type": "code",
   "execution_count": 61,
   "metadata": {},
   "outputs": [],
   "source": [
    "pipe_results = pd.DataFrame(pipe_scores).sort_values('val_score', ascending = False)\n",
    "\n",
    "pipe_results = pipe_results.rename(columns = {'val_score':'test_score'})"
   ]
  },
  {
   "cell_type": "code",
   "execution_count": 56,
   "metadata": {},
   "outputs": [
    {
     "name": "stdout",
     "output_type": "stream",
     "text": [
      "|    | name                     | best_params                                                                                                                  |   cv_score |   val_score |   tp |   tn |   fp |   fn |   Sensitivity |   Specificity |   Precision |\n",
      "|---:|:-------------------------|:-----------------------------------------------------------------------------------------------------------------------------|-----------:|------------:|-----:|-----:|-----:|-----:|--------------:|--------------:|------------:|\n",
      "|  5 | svm_tvec                 | {'svm_tvec__C': 10, 'svm_tvec__gamma': 'scale', 'svm_tvec__kernel': 'rbf', 'vect__max_df': 0.5, 'vect__ngram_range': (1, 2)} |   0.896504 |    0.898754 |  286 |  291 |   26 |   39 |      0.88     |      0.917981 |    0.916667 |\n",
      "|  3 | logistic_regression_tvec | {'logistic_regression_tvec__C': 1, 'vect__max_df': 0.5, 'vect__ngram_range': (1, 1)}                                         |   0.893846 |    0.895639 |  291 |  284 |   33 |   34 |      0.895385 |      0.895899 |    0.898148 |\n",
      "|  2 | logistic_regression_cvec | {'logistic_regression_cvec__C': 1, 'vect__max_df': 0.5, 'vect__ngram_range': (1, 1)}                                         |   0.875817 |    0.894081 |  294 |  280 |   37 |   31 |      0.904615 |      0.883281 |    0.888218 |\n",
      "|  1 | naive_bayes_tvec         | {'naive_bayes_tvec__alpha': 0.2575, 'vect__max_df': 0.5, 'vect__ngram_range': (1, 2)}                                        |   0.879184 |    0.872274 |  269 |  291 |   26 |   56 |      0.827692 |      0.917981 |    0.911864 |\n",
      "|  4 | svm_cvec                 | {'svm_cvec__C': 10, 'svm_cvec__gamma': 'scale', 'svm_cvec__kernel': 'rbf', 'vect__max_df': 0.5, 'vect__ngram_range': (1, 2)} |   0.857135 |    0.867601 |  292 |  265 |   52 |   33 |      0.898462 |      0.835962 |    0.848837 |\n",
      "|  0 | naive_bayes_cvec         | {'naive_bayes_cvec__alpha': 0.2575, 'vect__max_df': 0.5, 'vect__min_df': 1, 'vect__ngram_range': (1, 2)}                     |   0.893197 |    0.864486 |  276 |  279 |   38 |   49 |      0.849231 |      0.880126 |    0.878981 |\n",
      "|  6 | rf_cvec                  | {'rf_cvec__max_depth': None, 'rf_cvec__n_estimators': 200, 'vect__max_df': 1.0, 'vect__ngram_range': (1, 1)}                 |   0.846462 |    0.864486 |  291 |  264 |   53 |   34 |      0.895385 |      0.832808 |    0.84593  |\n",
      "|  7 | rf_tvec                  | {'rf_tvec__max_depth': None, 'rf_tvec__n_estimators': 200, 'vect__max_df': 0.5, 'vect__ngram_range': (1, 1)}                 |   0.84579  |    0.853583 |  287 |  261 |   56 |   38 |      0.883077 |      0.823344 |    0.836735 |\n"
     ]
    }
   ],
   "source": []
  },
  {
   "cell_type": "code",
   "execution_count": 65,
   "metadata": {},
   "outputs": [],
   "source": [
    "pipe_results['sensitivity'] = pipe_results['tp']/(pipe_results['tp'] + pipe_results['fn'])\n",
    "pipe_results['specificity'] = pipe_results['tn']/(pipe_results['tn'] + pipe_results['fp'])\n",
    "pipe_results['precision'] = pipe_results['tp']/(pipe_results['tp'] + pipe_results['fp'])"
   ]
  },
  {
   "cell_type": "code",
   "execution_count": 66,
   "metadata": {},
   "outputs": [
    {
     "data": {
      "text/html": [
       "<div>\n",
       "<style scoped>\n",
       "    .dataframe tbody tr th:only-of-type {\n",
       "        vertical-align: middle;\n",
       "    }\n",
       "\n",
       "    .dataframe tbody tr th {\n",
       "        vertical-align: top;\n",
       "    }\n",
       "\n",
       "    .dataframe thead th {\n",
       "        text-align: right;\n",
       "    }\n",
       "</style>\n",
       "<table border=\"1\" class=\"dataframe\">\n",
       "  <thead>\n",
       "    <tr style=\"text-align: right;\">\n",
       "      <th></th>\n",
       "      <th>name</th>\n",
       "      <th>best_params</th>\n",
       "      <th>cv_score</th>\n",
       "      <th>test_score</th>\n",
       "      <th>tp</th>\n",
       "      <th>tn</th>\n",
       "      <th>fp</th>\n",
       "      <th>fn</th>\n",
       "      <th>Sensitivity</th>\n",
       "      <th>Specificity</th>\n",
       "      <th>Precision</th>\n",
       "      <th>sensitivity</th>\n",
       "      <th>specificity</th>\n",
       "      <th>precision</th>\n",
       "    </tr>\n",
       "  </thead>\n",
       "  <tbody>\n",
       "    <tr>\n",
       "      <th>5</th>\n",
       "      <td>svm_tvec</td>\n",
       "      <td>{'svm_tvec__C': 10, 'svm_tvec__gamma': 'scale'...</td>\n",
       "      <td>0.896504</td>\n",
       "      <td>0.898754</td>\n",
       "      <td>286</td>\n",
       "      <td>291</td>\n",
       "      <td>26</td>\n",
       "      <td>39</td>\n",
       "      <td>0.880000</td>\n",
       "      <td>0.917981</td>\n",
       "      <td>0.916667</td>\n",
       "      <td>0.880000</td>\n",
       "      <td>0.917981</td>\n",
       "      <td>0.916667</td>\n",
       "    </tr>\n",
       "    <tr>\n",
       "      <th>3</th>\n",
       "      <td>logistic_regression_tvec</td>\n",
       "      <td>{'logistic_regression_tvec__C': 1, 'vect__max_...</td>\n",
       "      <td>0.893846</td>\n",
       "      <td>0.895639</td>\n",
       "      <td>291</td>\n",
       "      <td>284</td>\n",
       "      <td>33</td>\n",
       "      <td>34</td>\n",
       "      <td>0.895385</td>\n",
       "      <td>0.895899</td>\n",
       "      <td>0.898148</td>\n",
       "      <td>0.895385</td>\n",
       "      <td>0.895899</td>\n",
       "      <td>0.898148</td>\n",
       "    </tr>\n",
       "    <tr>\n",
       "      <th>2</th>\n",
       "      <td>logistic_regression_cvec</td>\n",
       "      <td>{'logistic_regression_cvec__C': 1, 'vect__max_...</td>\n",
       "      <td>0.875817</td>\n",
       "      <td>0.894081</td>\n",
       "      <td>294</td>\n",
       "      <td>280</td>\n",
       "      <td>37</td>\n",
       "      <td>31</td>\n",
       "      <td>0.904615</td>\n",
       "      <td>0.883281</td>\n",
       "      <td>0.888218</td>\n",
       "      <td>0.904615</td>\n",
       "      <td>0.883281</td>\n",
       "      <td>0.888218</td>\n",
       "    </tr>\n",
       "    <tr>\n",
       "      <th>1</th>\n",
       "      <td>naive_bayes_tvec</td>\n",
       "      <td>{'naive_bayes_tvec__alpha': 0.2575, 'vect__max...</td>\n",
       "      <td>0.879184</td>\n",
       "      <td>0.872274</td>\n",
       "      <td>269</td>\n",
       "      <td>291</td>\n",
       "      <td>26</td>\n",
       "      <td>56</td>\n",
       "      <td>0.827692</td>\n",
       "      <td>0.917981</td>\n",
       "      <td>0.911864</td>\n",
       "      <td>0.827692</td>\n",
       "      <td>0.917981</td>\n",
       "      <td>0.911864</td>\n",
       "    </tr>\n",
       "    <tr>\n",
       "      <th>4</th>\n",
       "      <td>svm_cvec</td>\n",
       "      <td>{'svm_cvec__C': 10, 'svm_cvec__gamma': 'scale'...</td>\n",
       "      <td>0.857135</td>\n",
       "      <td>0.867601</td>\n",
       "      <td>292</td>\n",
       "      <td>265</td>\n",
       "      <td>52</td>\n",
       "      <td>33</td>\n",
       "      <td>0.898462</td>\n",
       "      <td>0.835962</td>\n",
       "      <td>0.848837</td>\n",
       "      <td>0.898462</td>\n",
       "      <td>0.835962</td>\n",
       "      <td>0.848837</td>\n",
       "    </tr>\n",
       "    <tr>\n",
       "      <th>0</th>\n",
       "      <td>naive_bayes_cvec</td>\n",
       "      <td>{'naive_bayes_cvec__alpha': 0.2575, 'vect__max...</td>\n",
       "      <td>0.893197</td>\n",
       "      <td>0.864486</td>\n",
       "      <td>276</td>\n",
       "      <td>279</td>\n",
       "      <td>38</td>\n",
       "      <td>49</td>\n",
       "      <td>0.849231</td>\n",
       "      <td>0.880126</td>\n",
       "      <td>0.878981</td>\n",
       "      <td>0.849231</td>\n",
       "      <td>0.880126</td>\n",
       "      <td>0.878981</td>\n",
       "    </tr>\n",
       "    <tr>\n",
       "      <th>6</th>\n",
       "      <td>rf_cvec</td>\n",
       "      <td>{'rf_cvec__max_depth': None, 'rf_cvec__n_estim...</td>\n",
       "      <td>0.846462</td>\n",
       "      <td>0.864486</td>\n",
       "      <td>291</td>\n",
       "      <td>264</td>\n",
       "      <td>53</td>\n",
       "      <td>34</td>\n",
       "      <td>0.895385</td>\n",
       "      <td>0.832808</td>\n",
       "      <td>0.845930</td>\n",
       "      <td>0.895385</td>\n",
       "      <td>0.832808</td>\n",
       "      <td>0.845930</td>\n",
       "    </tr>\n",
       "    <tr>\n",
       "      <th>7</th>\n",
       "      <td>rf_tvec</td>\n",
       "      <td>{'rf_tvec__max_depth': None, 'rf_tvec__n_estim...</td>\n",
       "      <td>0.845790</td>\n",
       "      <td>0.853583</td>\n",
       "      <td>287</td>\n",
       "      <td>261</td>\n",
       "      <td>56</td>\n",
       "      <td>38</td>\n",
       "      <td>0.883077</td>\n",
       "      <td>0.823344</td>\n",
       "      <td>0.836735</td>\n",
       "      <td>0.883077</td>\n",
       "      <td>0.823344</td>\n",
       "      <td>0.836735</td>\n",
       "    </tr>\n",
       "  </tbody>\n",
       "</table>\n",
       "</div>"
      ],
      "text/plain": [
       "                       name  \\\n",
       "5                  svm_tvec   \n",
       "3  logistic_regression_tvec   \n",
       "2  logistic_regression_cvec   \n",
       "1          naive_bayes_tvec   \n",
       "4                  svm_cvec   \n",
       "0          naive_bayes_cvec   \n",
       "6                   rf_cvec   \n",
       "7                   rf_tvec   \n",
       "\n",
       "                                         best_params  cv_score  test_score  \\\n",
       "5  {'svm_tvec__C': 10, 'svm_tvec__gamma': 'scale'...  0.896504    0.898754   \n",
       "3  {'logistic_regression_tvec__C': 1, 'vect__max_...  0.893846    0.895639   \n",
       "2  {'logistic_regression_cvec__C': 1, 'vect__max_...  0.875817    0.894081   \n",
       "1  {'naive_bayes_tvec__alpha': 0.2575, 'vect__max...  0.879184    0.872274   \n",
       "4  {'svm_cvec__C': 10, 'svm_cvec__gamma': 'scale'...  0.857135    0.867601   \n",
       "0  {'naive_bayes_cvec__alpha': 0.2575, 'vect__max...  0.893197    0.864486   \n",
       "6  {'rf_cvec__max_depth': None, 'rf_cvec__n_estim...  0.846462    0.864486   \n",
       "7  {'rf_tvec__max_depth': None, 'rf_tvec__n_estim...  0.845790    0.853583   \n",
       "\n",
       "    tp   tn  fp  fn  Sensitivity  Specificity  Precision  sensitivity  \\\n",
       "5  286  291  26  39     0.880000     0.917981   0.916667     0.880000   \n",
       "3  291  284  33  34     0.895385     0.895899   0.898148     0.895385   \n",
       "2  294  280  37  31     0.904615     0.883281   0.888218     0.904615   \n",
       "1  269  291  26  56     0.827692     0.917981   0.911864     0.827692   \n",
       "4  292  265  52  33     0.898462     0.835962   0.848837     0.898462   \n",
       "0  276  279  38  49     0.849231     0.880126   0.878981     0.849231   \n",
       "6  291  264  53  34     0.895385     0.832808   0.845930     0.895385   \n",
       "7  287  261  56  38     0.883077     0.823344   0.836735     0.883077   \n",
       "\n",
       "   specificity  precision  \n",
       "5     0.917981   0.916667  \n",
       "3     0.895899   0.898148  \n",
       "2     0.883281   0.888218  \n",
       "1     0.917981   0.911864  \n",
       "4     0.835962   0.848837  \n",
       "0     0.880126   0.878981  \n",
       "6     0.832808   0.845930  \n",
       "7     0.823344   0.836735  "
      ]
     },
     "execution_count": 66,
     "metadata": {},
     "output_type": "execute_result"
    }
   ],
   "source": [
    "pipe_results"
   ]
  },
  {
   "cell_type": "code",
   "execution_count": 78,
   "metadata": {},
   "outputs": [],
   "source": [
    "pipe_results.reset_index(inplace = True, drop = True)"
   ]
  },
  {
   "cell_type": "code",
   "execution_count": 80,
   "metadata": {},
   "outputs": [
    {
     "data": {
      "text/html": [
       "<div>\n",
       "<style scoped>\n",
       "    .dataframe tbody tr th:only-of-type {\n",
       "        vertical-align: middle;\n",
       "    }\n",
       "\n",
       "    .dataframe tbody tr th {\n",
       "        vertical-align: top;\n",
       "    }\n",
       "\n",
       "    .dataframe thead th {\n",
       "        text-align: right;\n",
       "    }\n",
       "</style>\n",
       "<table border=\"1\" class=\"dataframe\">\n",
       "  <thead>\n",
       "    <tr style=\"text-align: right;\">\n",
       "      <th></th>\n",
       "      <th>name</th>\n",
       "      <th>best_params</th>\n",
       "      <th>cv_score</th>\n",
       "      <th>test_score</th>\n",
       "      <th>tp</th>\n",
       "      <th>tn</th>\n",
       "      <th>fp</th>\n",
       "      <th>fn</th>\n",
       "      <th>Sensitivity</th>\n",
       "      <th>Specificity</th>\n",
       "      <th>Precision</th>\n",
       "      <th>sensitivity</th>\n",
       "      <th>specificity</th>\n",
       "      <th>precision</th>\n",
       "    </tr>\n",
       "  </thead>\n",
       "  <tbody>\n",
       "    <tr>\n",
       "      <th>0</th>\n",
       "      <td>svm_tvec</td>\n",
       "      <td>{'svm_tvec__C': 10, 'svm_tvec__gamma': 'scale'...</td>\n",
       "      <td>0.896504</td>\n",
       "      <td>0.898754</td>\n",
       "      <td>286</td>\n",
       "      <td>291</td>\n",
       "      <td>26</td>\n",
       "      <td>39</td>\n",
       "      <td>0.880000</td>\n",
       "      <td>0.917981</td>\n",
       "      <td>0.916667</td>\n",
       "      <td>0.880000</td>\n",
       "      <td>0.917981</td>\n",
       "      <td>0.916667</td>\n",
       "    </tr>\n",
       "    <tr>\n",
       "      <th>1</th>\n",
       "      <td>logistic_regression_tvec</td>\n",
       "      <td>{'logistic_regression_tvec__C': 1, 'vect__max_...</td>\n",
       "      <td>0.893846</td>\n",
       "      <td>0.895639</td>\n",
       "      <td>291</td>\n",
       "      <td>284</td>\n",
       "      <td>33</td>\n",
       "      <td>34</td>\n",
       "      <td>0.895385</td>\n",
       "      <td>0.895899</td>\n",
       "      <td>0.898148</td>\n",
       "      <td>0.895385</td>\n",
       "      <td>0.895899</td>\n",
       "      <td>0.898148</td>\n",
       "    </tr>\n",
       "    <tr>\n",
       "      <th>2</th>\n",
       "      <td>logistic_regression_cvec</td>\n",
       "      <td>{'logistic_regression_cvec__C': 1, 'vect__max_...</td>\n",
       "      <td>0.875817</td>\n",
       "      <td>0.894081</td>\n",
       "      <td>294</td>\n",
       "      <td>280</td>\n",
       "      <td>37</td>\n",
       "      <td>31</td>\n",
       "      <td>0.904615</td>\n",
       "      <td>0.883281</td>\n",
       "      <td>0.888218</td>\n",
       "      <td>0.904615</td>\n",
       "      <td>0.883281</td>\n",
       "      <td>0.888218</td>\n",
       "    </tr>\n",
       "    <tr>\n",
       "      <th>3</th>\n",
       "      <td>naive_bayes_tvec</td>\n",
       "      <td>{'naive_bayes_tvec__alpha': 0.2575, 'vect__max...</td>\n",
       "      <td>0.879184</td>\n",
       "      <td>0.872274</td>\n",
       "      <td>269</td>\n",
       "      <td>291</td>\n",
       "      <td>26</td>\n",
       "      <td>56</td>\n",
       "      <td>0.827692</td>\n",
       "      <td>0.917981</td>\n",
       "      <td>0.911864</td>\n",
       "      <td>0.827692</td>\n",
       "      <td>0.917981</td>\n",
       "      <td>0.911864</td>\n",
       "    </tr>\n",
       "    <tr>\n",
       "      <th>4</th>\n",
       "      <td>svm_cvec</td>\n",
       "      <td>{'svm_cvec__C': 10, 'svm_cvec__gamma': 'scale'...</td>\n",
       "      <td>0.857135</td>\n",
       "      <td>0.867601</td>\n",
       "      <td>292</td>\n",
       "      <td>265</td>\n",
       "      <td>52</td>\n",
       "      <td>33</td>\n",
       "      <td>0.898462</td>\n",
       "      <td>0.835962</td>\n",
       "      <td>0.848837</td>\n",
       "      <td>0.898462</td>\n",
       "      <td>0.835962</td>\n",
       "      <td>0.848837</td>\n",
       "    </tr>\n",
       "    <tr>\n",
       "      <th>5</th>\n",
       "      <td>naive_bayes_cvec</td>\n",
       "      <td>{'naive_bayes_cvec__alpha': 0.2575, 'vect__max...</td>\n",
       "      <td>0.893197</td>\n",
       "      <td>0.864486</td>\n",
       "      <td>276</td>\n",
       "      <td>279</td>\n",
       "      <td>38</td>\n",
       "      <td>49</td>\n",
       "      <td>0.849231</td>\n",
       "      <td>0.880126</td>\n",
       "      <td>0.878981</td>\n",
       "      <td>0.849231</td>\n",
       "      <td>0.880126</td>\n",
       "      <td>0.878981</td>\n",
       "    </tr>\n",
       "    <tr>\n",
       "      <th>6</th>\n",
       "      <td>rf_cvec</td>\n",
       "      <td>{'rf_cvec__max_depth': None, 'rf_cvec__n_estim...</td>\n",
       "      <td>0.846462</td>\n",
       "      <td>0.864486</td>\n",
       "      <td>291</td>\n",
       "      <td>264</td>\n",
       "      <td>53</td>\n",
       "      <td>34</td>\n",
       "      <td>0.895385</td>\n",
       "      <td>0.832808</td>\n",
       "      <td>0.845930</td>\n",
       "      <td>0.895385</td>\n",
       "      <td>0.832808</td>\n",
       "      <td>0.845930</td>\n",
       "    </tr>\n",
       "    <tr>\n",
       "      <th>7</th>\n",
       "      <td>rf_tvec</td>\n",
       "      <td>{'rf_tvec__max_depth': None, 'rf_tvec__n_estim...</td>\n",
       "      <td>0.845790</td>\n",
       "      <td>0.853583</td>\n",
       "      <td>287</td>\n",
       "      <td>261</td>\n",
       "      <td>56</td>\n",
       "      <td>38</td>\n",
       "      <td>0.883077</td>\n",
       "      <td>0.823344</td>\n",
       "      <td>0.836735</td>\n",
       "      <td>0.883077</td>\n",
       "      <td>0.823344</td>\n",
       "      <td>0.836735</td>\n",
       "    </tr>\n",
       "  </tbody>\n",
       "</table>\n",
       "</div>"
      ],
      "text/plain": [
       "                       name  \\\n",
       "0                  svm_tvec   \n",
       "1  logistic_regression_tvec   \n",
       "2  logistic_regression_cvec   \n",
       "3          naive_bayes_tvec   \n",
       "4                  svm_cvec   \n",
       "5          naive_bayes_cvec   \n",
       "6                   rf_cvec   \n",
       "7                   rf_tvec   \n",
       "\n",
       "                                         best_params  cv_score  test_score  \\\n",
       "0  {'svm_tvec__C': 10, 'svm_tvec__gamma': 'scale'...  0.896504    0.898754   \n",
       "1  {'logistic_regression_tvec__C': 1, 'vect__max_...  0.893846    0.895639   \n",
       "2  {'logistic_regression_cvec__C': 1, 'vect__max_...  0.875817    0.894081   \n",
       "3  {'naive_bayes_tvec__alpha': 0.2575, 'vect__max...  0.879184    0.872274   \n",
       "4  {'svm_cvec__C': 10, 'svm_cvec__gamma': 'scale'...  0.857135    0.867601   \n",
       "5  {'naive_bayes_cvec__alpha': 0.2575, 'vect__max...  0.893197    0.864486   \n",
       "6  {'rf_cvec__max_depth': None, 'rf_cvec__n_estim...  0.846462    0.864486   \n",
       "7  {'rf_tvec__max_depth': None, 'rf_tvec__n_estim...  0.845790    0.853583   \n",
       "\n",
       "    tp   tn  fp  fn  Sensitivity  Specificity  Precision  sensitivity  \\\n",
       "0  286  291  26  39     0.880000     0.917981   0.916667     0.880000   \n",
       "1  291  284  33  34     0.895385     0.895899   0.898148     0.895385   \n",
       "2  294  280  37  31     0.904615     0.883281   0.888218     0.904615   \n",
       "3  269  291  26  56     0.827692     0.917981   0.911864     0.827692   \n",
       "4  292  265  52  33     0.898462     0.835962   0.848837     0.898462   \n",
       "5  276  279  38  49     0.849231     0.880126   0.878981     0.849231   \n",
       "6  291  264  53  34     0.895385     0.832808   0.845930     0.895385   \n",
       "7  287  261  56  38     0.883077     0.823344   0.836735     0.883077   \n",
       "\n",
       "   specificity  precision  \n",
       "0     0.917981   0.916667  \n",
       "1     0.895899   0.898148  \n",
       "2     0.883281   0.888218  \n",
       "3     0.917981   0.911864  \n",
       "4     0.835962   0.848837  \n",
       "5     0.880126   0.878981  \n",
       "6     0.832808   0.845930  \n",
       "7     0.823344   0.836735  "
      ]
     },
     "execution_count": 80,
     "metadata": {},
     "output_type": "execute_result"
    }
   ],
   "source": [
    "pipe_results"
   ]
  },
  {
   "cell_type": "markdown",
   "metadata": {},
   "source": [
    "We now go through each of the best models and compute scores on the training data"
   ]
  },
  {
   "cell_type": "code",
   "execution_count": 102,
   "metadata": {},
   "outputs": [],
   "source": [
    "best_models = []"
   ]
  },
  {
   "cell_type": "code",
   "execution_count": 103,
   "metadata": {},
   "outputs": [
    {
     "data": {
      "text/plain": [
       "{'svm_tvec__C': 10,\n",
       " 'svm_tvec__gamma': 'scale',\n",
       " 'svm_tvec__kernel': 'rbf',\n",
       " 'vect__max_df': 0.5,\n",
       " 'vect__ngram_range': (1, 2)}"
      ]
     },
     "execution_count": 103,
     "metadata": {},
     "output_type": "execute_result"
    }
   ],
   "source": [
    "pipe_results.loc[0]['best_params']"
   ]
  },
  {
   "cell_type": "code",
   "execution_count": 104,
   "metadata": {},
   "outputs": [],
   "source": [
    "best_models.append(Pipeline([('tvec', TfidfVectorizer(max_df=0.5,ngram_range=(1,2))), \n",
    "                         ('svm', SVC(C = 10))]))"
   ]
  },
  {
   "cell_type": "code",
   "execution_count": 105,
   "metadata": {},
   "outputs": [
    {
     "data": {
      "text/plain": [
       "{'logistic_regression_tvec__C': 1,\n",
       " 'vect__max_df': 0.5,\n",
       " 'vect__ngram_range': (1, 1)}"
      ]
     },
     "execution_count": 105,
     "metadata": {},
     "output_type": "execute_result"
    }
   ],
   "source": [
    "pipe_results.loc[1]['best_params']"
   ]
  },
  {
   "cell_type": "code",
   "execution_count": 106,
   "metadata": {},
   "outputs": [],
   "source": [
    "best_models.append(Pipeline([('tvec', TfidfVectorizer(max_df=0.5,ngram_range=(1,1))), \n",
    "                         ('lr', LogisticRegression(C = 1))]))"
   ]
  },
  {
   "cell_type": "code",
   "execution_count": 107,
   "metadata": {},
   "outputs": [
    {
     "data": {
      "text/plain": [
       "{'logistic_regression_cvec__C': 1,\n",
       " 'vect__max_df': 0.5,\n",
       " 'vect__ngram_range': (1, 1)}"
      ]
     },
     "execution_count": 107,
     "metadata": {},
     "output_type": "execute_result"
    }
   ],
   "source": [
    "pipe_results.loc[2]['best_params']"
   ]
  },
  {
   "cell_type": "code",
   "execution_count": 108,
   "metadata": {},
   "outputs": [],
   "source": [
    "best_models.append(Pipeline([('cvec', CountVectorizer(max_df=0.5,ngram_range=(1,1))), \n",
    "                         ('lr', LogisticRegression(C = 1))]))"
   ]
  },
  {
   "cell_type": "code",
   "execution_count": 109,
   "metadata": {},
   "outputs": [
    {
     "data": {
      "text/plain": [
       "{'naive_bayes_tvec__alpha': 0.2575,\n",
       " 'vect__max_df': 0.5,\n",
       " 'vect__ngram_range': (1, 2)}"
      ]
     },
     "execution_count": 109,
     "metadata": {},
     "output_type": "execute_result"
    }
   ],
   "source": [
    "pipe_results.loc[3]['best_params']"
   ]
  },
  {
   "cell_type": "code",
   "execution_count": 110,
   "metadata": {},
   "outputs": [],
   "source": [
    "best_models.append(Pipeline([('tvec', TfidfVectorizer(max_df=0.5,ngram_range=(1,2))), \n",
    "                         ('nb', MultinomialNB(alpha = 0.2575))]))"
   ]
  },
  {
   "cell_type": "code",
   "execution_count": 111,
   "metadata": {},
   "outputs": [
    {
     "data": {
      "text/plain": [
       "{'svm_cvec__C': 10,\n",
       " 'svm_cvec__gamma': 'scale',\n",
       " 'svm_cvec__kernel': 'rbf',\n",
       " 'vect__max_df': 0.5,\n",
       " 'vect__ngram_range': (1, 2)}"
      ]
     },
     "execution_count": 111,
     "metadata": {},
     "output_type": "execute_result"
    }
   ],
   "source": [
    "pipe_results.loc[4]['best_params']"
   ]
  },
  {
   "cell_type": "code",
   "execution_count": 112,
   "metadata": {},
   "outputs": [],
   "source": [
    "best_models.append(Pipeline([('tvec', CountVectorizer(max_df=0.5,ngram_range=(1,2))), \n",
    "                         ('svm', SVC(C = 10))]))"
   ]
  },
  {
   "cell_type": "code",
   "execution_count": 113,
   "metadata": {
    "scrolled": true
   },
   "outputs": [
    {
     "data": {
      "text/plain": [
       "{'naive_bayes_cvec__alpha': 0.2575,\n",
       " 'vect__max_df': 0.5,\n",
       " 'vect__min_df': 1,\n",
       " 'vect__ngram_range': (1, 2)}"
      ]
     },
     "execution_count": 113,
     "metadata": {},
     "output_type": "execute_result"
    }
   ],
   "source": [
    "pipe_results.loc[5]['best_params']"
   ]
  },
  {
   "cell_type": "code",
   "execution_count": 114,
   "metadata": {},
   "outputs": [],
   "source": [
    "best_models.append(Pipeline([('cvec', CountVectorizer(max_df=0.5,ngram_range=(1,2))), \n",
    "                         ('nb', MultinomialNB(alpha = 0.2575))]))"
   ]
  },
  {
   "cell_type": "code",
   "execution_count": 115,
   "metadata": {},
   "outputs": [
    {
     "data": {
      "text/plain": [
       "{'rf_cvec__max_depth': None,\n",
       " 'rf_cvec__n_estimators': 200,\n",
       " 'vect__max_df': 1.0,\n",
       " 'vect__ngram_range': (1, 1)}"
      ]
     },
     "execution_count": 115,
     "metadata": {},
     "output_type": "execute_result"
    }
   ],
   "source": [
    "pipe_results.loc[6]['best_params']"
   ]
  },
  {
   "cell_type": "code",
   "execution_count": 116,
   "metadata": {},
   "outputs": [],
   "source": [
    "best_models.append(Pipeline([('cvec', CountVectorizer(ngram_range=(1,1))), \n",
    "                         ('rf', RandomForestClassifier(n_estimators = 200))]))"
   ]
  },
  {
   "cell_type": "code",
   "execution_count": 117,
   "metadata": {},
   "outputs": [
    {
     "data": {
      "text/plain": [
       "{'rf_tvec__max_depth': None,\n",
       " 'rf_tvec__n_estimators': 200,\n",
       " 'vect__max_df': 0.5,\n",
       " 'vect__ngram_range': (1, 1)}"
      ]
     },
     "execution_count": 117,
     "metadata": {},
     "output_type": "execute_result"
    }
   ],
   "source": [
    "pipe_results.loc[7]['best_params']"
   ]
  },
  {
   "cell_type": "code",
   "execution_count": 118,
   "metadata": {},
   "outputs": [],
   "source": [
    "best_models.append(Pipeline([('tvec', TfidfVectorizer(max_df = 0.5, ngram_range=(1,1))), \n",
    "                         ('rf', RandomForestClassifier(n_estimators = 200))]))"
   ]
  },
  {
   "cell_type": "code",
   "execution_count": 119,
   "metadata": {},
   "outputs": [],
   "source": [
    "train_scores= []\n",
    "for i, model in enumerate(best_models):\n",
    "    model.fit(X_train, y_train)\n",
    "    pipe_results.loc[i, 'train_score'] = model.score(X_train, y_train)"
   ]
  },
  {
   "cell_type": "code",
   "execution_count": 120,
   "metadata": {
    "scrolled": true
   },
   "outputs": [
    {
     "name": "stdout",
     "output_type": "stream",
     "text": [
      "|    | name                     |   train_score |   cv_score |   test_score |   sensitivity |   specificity |   precision |\n",
      "|---:|:-------------------------|--------------:|-----------:|-------------:|--------------:|--------------:|------------:|\n",
      "|  0 | svm_tvec                 |      0.998665 |   0.896504 |     0.898754 |      0.88     |      0.917981 |    0.916667 |\n",
      "|  1 | logistic_regression_tvec |      0.980641 |   0.893846 |     0.895639 |      0.895385 |      0.895899 |    0.898148 |\n",
      "|  2 | logistic_regression_cvec |      0.992657 |   0.875817 |     0.894081 |      0.904615 |      0.883281 |    0.888218 |\n",
      "|  3 | naive_bayes_tvec         |      0.996662 |   0.879184 |     0.872274 |      0.827692 |      0.917981 |    0.911864 |\n",
      "|  4 | svm_cvec                 |      0.995995 |   0.857135 |     0.867601 |      0.898462 |      0.835962 |    0.848837 |\n",
      "|  5 | naive_bayes_cvec         |      0.993992 |   0.893197 |     0.864486 |      0.849231 |      0.880126 |    0.878981 |\n",
      "|  6 | rf_cvec                  |      0.998665 |   0.846462 |     0.864486 |      0.895385 |      0.832808 |    0.84593  |\n",
      "|  7 | rf_tvec                  |      0.998665 |   0.84579  |     0.853583 |      0.883077 |      0.823344 |    0.836735 |\n"
     ]
    }
   ],
   "source": [
    "from tabulate import tabulate\n",
    "\n",
    "print(tabulate(pipe_results[['name', 'train_score', 'cv_score', 'test_score', 'sensitivity', 'specificity', 'precision']].reset_index(drop=True), tablefmt=\"pipe\", headers=\"keys\", ))"
   ]
  },
  {
   "cell_type": "code",
   "execution_count": null,
   "metadata": {},
   "outputs": [],
   "source": []
  },
  {
   "cell_type": "markdown",
   "metadata": {},
   "source": [
    "## Best Model: LogisticRegression with TF-IDF Vectorizer with df_max = 0.5, ngram_range = (1,1)\n",
    "\n",
    "We choose this as our best model due to the better interpretability of logisticit regression over SVM, even though SVM performed slightly better on the test set. All models are fairly high bias, as they achieve nearly 99% accuracy on the training data. However, they all seem to generalize well to the test data, witih SVM and LogisticRegression scoring nearly 90% accuracy. All models do significantly better than the baseline of ~50%. "
   ]
  },
  {
   "cell_type": "markdown",
   "metadata": {},
   "source": [
    "## ROC Curves"
   ]
  },
  {
   "cell_type": "code",
   "execution_count": 140,
   "metadata": {
    "scrolled": true
   },
   "outputs": [
    {
     "data": {
      "text/plain": [
       "Text(0.5, 1.0, 'ROC Curve for Best Model (Logistic Regression)')"
      ]
     },
     "execution_count": 140,
     "metadata": {},
     "output_type": "execute_result"
    },
    {
     "data": {
      "image/png": "[encoded data removed]",
      "text/plain": [
       "<Figure size 576x360 with 1 Axes>"
      ]
     },
     "metadata": {
      "needs_background": "light"
     },
     "output_type": "display_data"
    }
   ],
   "source": [
    "from sklearn.metrics import plot_roc_curve, roc_auc_score\n",
    "fig, ax = plt.subplots(figsize = (8,5))\n",
    "plot_roc_curve(svm_tvec_pipe, X_test, y_test, ax= ax)\n",
    "plt.plot([0, 1], [0, 1],\n",
    "         label='baseline', linestyle='--')\n",
    "plt.legend();\n",
    "plt.title('ROC Curve for Best Model (Logistic Regression)')"
   ]
  },
  {
   "cell_type": "code",
   "execution_count": null,
   "metadata": {},
   "outputs": [],
   "source": [
    "# Plot "
   ]
  },
  {
   "cell_type": "code",
   "execution_count": 141,
   "metadata": {},
   "outputs": [
    {
     "data": {
      "text/plain": [
       "Text(0.5, 1.0, 'ROC Curve for Best Model (Logistic Regression)')"
      ]
     },
     "execution_count": 141,
     "metadata": {},
     "output_type": "execute_result"
    },
    {
     "data": {
      "image/png": "[encoded data removed]",
      "text/plain": [
       "<Figure size 432x288 with 1 Axes>"
      ]
     },
     "metadata": {
      "needs_background": "light"
     },
     "output_type": "display_data"
    }
   ],
   "source": [
    "from sklearn.metrics import plot_roc_curve, roc_auc_score\n",
    "fig, ax = plt.subplots()\n",
    "plot_roc_curve(logreg_tvec_pipe, X_test, y_test, ax = ax)\n",
    "plot_roc_curve(svm_tvec_pipe, X_test, y_test, ax=ax)\n",
    "plt.plot([0, 1], [0, 1],\n",
    "         label='baseline', linestyle='--')\n",
    "plt.legend();\n",
    "plt.title('ROC Curve for Best Model (Logistic Regression)')"
   ]
  },
  {
   "cell_type": "code",
   "execution_count": 124,
   "metadata": {},
   "outputs": [
    {
     "data": {
      "text/plain": [
       "0.9549429750060664"
      ]
     },
     "execution_count": 124,
     "metadata": {},
     "output_type": "execute_result"
    }
   ],
   "source": [
    "roc_auc_score(y_test, logreg_tvec_pipe.predict_proba(X_test)[:,1])"
   ]
  },
  {
   "cell_type": "code",
   "execution_count": null,
   "metadata": {},
   "outputs": [],
   "source": []
  },
  {
   "cell_type": "markdown",
   "metadata": {},
   "source": [
    "## Feature Importance\n",
    "By looking at the coefficient magnitudes of our best logistic regression model, we can gain some insight into which words are most important in determining whether a post belongs to r/math (the 0 class) or r/physics (the 1 class). "
   ]
  },
  {
   "cell_type": "code",
   "execution_count": 121,
   "metadata": {},
   "outputs": [
    {
     "data": {
      "text/plain": [
       "{'logistic_regression_tvec__C': 1,\n",
       " 'vect__max_df': 0.5,\n",
       " 'vect__ngram_range': (1, 1)}"
      ]
     },
     "execution_count": 121,
     "metadata": {},
     "output_type": "execute_result"
    }
   ],
   "source": [
    "pipe_results.iloc[1]['best_params']"
   ]
  },
  {
   "cell_type": "code",
   "execution_count": 122,
   "metadata": {},
   "outputs": [
    {
     "data": {
      "text/plain": [
       "Pipeline(memory=None,\n",
       "         steps=[('tvec',\n",
       "                 TfidfVectorizer(analyzer='word', binary=False,\n",
       "                                 decode_error='strict',\n",
       "                                 dtype=<class 'numpy.float64'>,\n",
       "                                 encoding='utf-8', input='content',\n",
       "                                 lowercase=True, max_df=0.5, max_features=None,\n",
       "                                 min_df=1, ngram_range=(1, 1), norm='l2',\n",
       "                                 preprocessor=None, smooth_idf=True,\n",
       "                                 stop_words=None, strip_accents=None,\n",
       "                                 sublinear_tf=False,\n",
       "                                 token_pattern='(?u)\\\\b\\\\w\\\\w+\\\\b',\n",
       "                                 tokenizer=None, use_idf=True,\n",
       "                                 vocabulary=None)),\n",
       "                ('logreg',\n",
       "                 LogisticRegression(C=1, class_weight=None, dual=False,\n",
       "                                    fit_intercept=True, intercept_scaling=1,\n",
       "                                    l1_ratio=None, max_iter=100,\n",
       "                                    multi_class='auto', n_jobs=None,\n",
       "                                    penalty='l2', random_state=None,\n",
       "                                    solver='lbfgs', tol=0.0001, verbose=0,\n",
       "                                    warm_start=False))],\n",
       "         verbose=False)"
      ]
     },
     "execution_count": 122,
     "metadata": {},
     "output_type": "execute_result"
    }
   ],
   "source": [
    "logreg_tvec_pipe = Pipeline([('tvec', TfidfVectorizer(max_df=0.5,ngram_range=(1,1))), \n",
    "                         ('logreg', LogisticRegression(C = 1))])\n",
    "logreg_tvec_pipe.fit(X_train, y_train)"
   ]
  },
  {
   "cell_type": "code",
   "execution_count": 123,
   "metadata": {},
   "outputs": [
    {
     "data": {
      "text/plain": [
       "array([-0.2214079 ,  0.08909241, -0.01991413, ...,  0.03843223,\n",
       "        0.03843223, -0.26362335])"
      ]
     },
     "execution_count": 123,
     "metadata": {},
     "output_type": "execute_result"
    }
   ],
   "source": [
    "logreg_tvec_pipe.named_steps['logreg'].coef_[0]"
   ]
  },
  {
   "cell_type": "code",
   "execution_count": 93,
   "metadata": {},
   "outputs": [],
   "source": [
    "feat_coef = pd.DataFrame({'feature': logreg_tvec_pipe.named_steps['tvec'].get_feature_names(), 'coef': logreg_tvec_pipe.named_steps['logreg'].coef_[0]})"
   ]
  },
  {
   "cell_type": "code",
   "execution_count": 94,
   "metadata": {},
   "outputs": [
    {
     "data": {
      "text/html": [
       "<div>\n",
       "<style scoped>\n",
       "    .dataframe tbody tr th:only-of-type {\n",
       "        vertical-align: middle;\n",
       "    }\n",
       "\n",
       "    .dataframe tbody tr th {\n",
       "        vertical-align: top;\n",
       "    }\n",
       "\n",
       "    .dataframe thead th {\n",
       "        text-align: right;\n",
       "    }\n",
       "</style>\n",
       "<table border=\"1\" class=\"dataframe\">\n",
       "  <thead>\n",
       "    <tr style=\"text-align: right;\">\n",
       "      <th></th>\n",
       "      <th>feature</th>\n",
       "      <th>coef</th>\n",
       "    </tr>\n",
       "  </thead>\n",
       "  <tbody>\n",
       "    <tr>\n",
       "      <th>5044</th>\n",
       "      <td>physic</td>\n",
       "      <td>5.846206</td>\n",
       "    </tr>\n",
       "    <tr>\n",
       "      <th>5483</th>\n",
       "      <td>quantum</td>\n",
       "      <td>2.150974</td>\n",
       "    </tr>\n",
       "    <tr>\n",
       "      <th>2199</th>\n",
       "      <td>energy</td>\n",
       "      <td>1.928018</td>\n",
       "    </tr>\n",
       "    <tr>\n",
       "      <th>7277</th>\n",
       "      <td>universe</td>\n",
       "      <td>1.816665</td>\n",
       "    </tr>\n",
       "    <tr>\n",
       "      <th>2671</th>\n",
       "      <td>force</td>\n",
       "      <td>1.801557</td>\n",
       "    </tr>\n",
       "    <tr>\n",
       "      <th>3949</th>\n",
       "      <td>light</td>\n",
       "      <td>1.766141</td>\n",
       "    </tr>\n",
       "    <tr>\n",
       "      <th>5047</th>\n",
       "      <td>physicist</td>\n",
       "      <td>1.660110</td>\n",
       "    </tr>\n",
       "    <tr>\n",
       "      <th>4222</th>\n",
       "      <td>mechanic</td>\n",
       "      <td>1.419765</td>\n",
       "    </tr>\n",
       "    <tr>\n",
       "      <th>6467</th>\n",
       "      <td>speed</td>\n",
       "      <td>1.336570</td>\n",
       "    </tr>\n",
       "    <tr>\n",
       "      <th>7510</th>\n",
       "      <td>wave</td>\n",
       "      <td>1.300069</td>\n",
       "    </tr>\n",
       "  </tbody>\n",
       "</table>\n",
       "</div>"
      ],
      "text/plain": [
       "        feature      coef\n",
       "5044     physic  5.846206\n",
       "5483    quantum  2.150974\n",
       "2199     energy  1.928018\n",
       "7277   universe  1.816665\n",
       "2671      force  1.801557\n",
       "3949      light  1.766141\n",
       "5047  physicist  1.660110\n",
       "4222   mechanic  1.419765\n",
       "6467      speed  1.336570\n",
       "7510       wave  1.300069"
      ]
     },
     "execution_count": 94,
     "metadata": {},
     "output_type": "execute_result"
    }
   ],
   "source": [
    "feat_coef.sort_values('coef', ascending=False).head(10)"
   ]
  },
  {
   "cell_type": "code",
   "execution_count": 95,
   "metadata": {},
   "outputs": [],
   "source": [
    "top_feats = feat_coef.sort_values('coef', ascending=False).head(10)"
   ]
  },
  {
   "cell_type": "code",
   "execution_count": 96,
   "metadata": {},
   "outputs": [
    {
     "data": {
      "text/html": [
       "<div>\n",
       "<style scoped>\n",
       "    .dataframe tbody tr th:only-of-type {\n",
       "        vertical-align: middle;\n",
       "    }\n",
       "\n",
       "    .dataframe tbody tr th {\n",
       "        vertical-align: top;\n",
       "    }\n",
       "\n",
       "    .dataframe thead th {\n",
       "        text-align: right;\n",
       "    }\n",
       "</style>\n",
       "<table border=\"1\" class=\"dataframe\">\n",
       "  <thead>\n",
       "    <tr style=\"text-align: right;\">\n",
       "      <th></th>\n",
       "      <th>feature</th>\n",
       "      <th>coef</th>\n",
       "    </tr>\n",
       "  </thead>\n",
       "  <tbody>\n",
       "    <tr>\n",
       "      <th>5044</th>\n",
       "      <td>physic</td>\n",
       "      <td>5.846206</td>\n",
       "    </tr>\n",
       "    <tr>\n",
       "      <th>5483</th>\n",
       "      <td>quantum</td>\n",
       "      <td>2.150974</td>\n",
       "    </tr>\n",
       "    <tr>\n",
       "      <th>2199</th>\n",
       "      <td>energy</td>\n",
       "      <td>1.928018</td>\n",
       "    </tr>\n",
       "    <tr>\n",
       "      <th>7277</th>\n",
       "      <td>universe</td>\n",
       "      <td>1.816665</td>\n",
       "    </tr>\n",
       "    <tr>\n",
       "      <th>2671</th>\n",
       "      <td>force</td>\n",
       "      <td>1.801557</td>\n",
       "    </tr>\n",
       "    <tr>\n",
       "      <th>3949</th>\n",
       "      <td>light</td>\n",
       "      <td>1.766141</td>\n",
       "    </tr>\n",
       "    <tr>\n",
       "      <th>5047</th>\n",
       "      <td>physicist</td>\n",
       "      <td>1.660110</td>\n",
       "    </tr>\n",
       "    <tr>\n",
       "      <th>4222</th>\n",
       "      <td>mechanic</td>\n",
       "      <td>1.419765</td>\n",
       "    </tr>\n",
       "    <tr>\n",
       "      <th>6467</th>\n",
       "      <td>speed</td>\n",
       "      <td>1.336570</td>\n",
       "    </tr>\n",
       "    <tr>\n",
       "      <th>7510</th>\n",
       "      <td>wave</td>\n",
       "      <td>1.300069</td>\n",
       "    </tr>\n",
       "  </tbody>\n",
       "</table>\n",
       "</div>"
      ],
      "text/plain": [
       "        feature      coef\n",
       "5044     physic  5.846206\n",
       "5483    quantum  2.150974\n",
       "2199     energy  1.928018\n",
       "7277   universe  1.816665\n",
       "2671      force  1.801557\n",
       "3949      light  1.766141\n",
       "5047  physicist  1.660110\n",
       "4222   mechanic  1.419765\n",
       "6467      speed  1.336570\n",
       "7510       wave  1.300069"
      ]
     },
     "execution_count": 96,
     "metadata": {},
     "output_type": "execute_result"
    }
   ],
   "source": [
    "top_feats"
   ]
  },
  {
   "cell_type": "code",
   "execution_count": 134,
   "metadata": {},
   "outputs": [
    {
     "data": {
      "text/plain": [
       "Text(0, 0.5, 'Word')"
      ]
     },
     "execution_count": 134,
     "metadata": {},
     "output_type": "execute_result"
    },
    {
     "data": {
      "image/png": "[encoded data removed]",
      "text/plain": [
       "<Figure size 720x720 with 1 Axes>"
      ]
     },
     "metadata": {
      "needs_background": "light"
     },
     "output_type": "display_data"
    }
   ],
   "source": [
    "plt.figure(figsize = (10,10))\n",
    "sns.set_color_codes(\"pastel\")\n",
    "sns.barplot(data=feat_coef.sort_values('coef', ascending=False).head(20), x = feat_coef.sort_values('coef', ascending=False).head(20).coef, y = 'feature')\n",
    "plt.title('Top 20 r/physics Words')\n",
    "plt.xlabel('Coefficient')\n",
    "plt.ylabel('Word')"
   ]
  },
  {
   "cell_type": "code",
   "execution_count": 133,
   "metadata": {},
   "outputs": [
    {
     "data": {
      "text/plain": [
       "Text(0, 0.5, 'Word')"
      ]
     },
     "execution_count": 133,
     "metadata": {},
     "output_type": "execute_result"
    },
    {
     "data": {
      "image/png": "[encoded data removed]",
      "text/plain": [
       "<Figure size 720x720 with 1 Axes>"
      ]
     },
     "metadata": {
      "needs_background": "light"
     },
     "output_type": "display_data"
    }
   ],
   "source": [
    "plt.figure(figsize = (10,10))\n",
    "sns.set_color_codes(\"pastel\")\n",
    "sns.barplot(data=feat_coef.sort_values('coef', ascending=True).head(20), x = feat_coef.sort_values('coef', ascending=True).head(20).coef, y = 'feature')\n",
    "plt.title('Top 10 r/math Words')\n",
    "plt.xlabel('Coefficient')\n",
    "plt.ylabel('Word')"
   ]
  },
  {
   "cell_type": "code",
   "execution_count": 142,
   "metadata": {},
   "outputs": [
    {
     "data": {
      "text/plain": [
       "(1498,)"
      ]
     },
     "execution_count": 142,
     "metadata": {},
     "output_type": "execute_result"
    }
   ],
   "source": [
    "X_train.shape"
   ]
  },
  {
   "cell_type": "markdown",
   "metadata": {},
   "source": [
    "# Best Model performance on entire set of scraped data\n",
    "\n",
    "In this final section, we see how well our best model found above (trained on just 1498 examples) generalizes to the full set of data we were able to scrape using Pushshift a total of 142410 examples! \n",
    "\n",
    "(Note: due to its large size, the associated csv file was not uploaded to the git repo.)"
   ]
  },
  {
   "cell_type": "code",
   "execution_count": 153,
   "metadata": {},
   "outputs": [],
   "source": [
    "df_all = pd.read_csv('../data/math_physics_data/math_physics_combined_lem_stem_843.csv',keep_default_na=False )"
   ]
  },
  {
   "cell_type": "code",
   "execution_count": 154,
   "metadata": {},
   "outputs": [
    {
     "data": {
      "text/plain": [
       "title        0\n",
       "selftext     0\n",
       "text         0\n",
       "lem_text     0\n",
       "stem_text    0\n",
       "subreddit    0\n",
       "dtype: int64"
      ]
     },
     "execution_count": 154,
     "metadata": {},
     "output_type": "execute_result"
    }
   ],
   "source": [
    "df_all.isnull().sum()"
   ]
  },
  {
   "cell_type": "code",
   "execution_count": 155,
   "metadata": {},
   "outputs": [],
   "source": [
    "X_all = df_all['lem_text']\n",
    "y_all = df_all['subreddit']"
   ]
  },
  {
   "cell_type": "code",
   "execution_count": 161,
   "metadata": {},
   "outputs": [
    {
     "data": {
      "text/plain": [
       "0    0.51594\n",
       "1    0.48406\n",
       "Name: subreddit, dtype: float64"
      ]
     },
     "execution_count": 161,
     "metadata": {},
     "output_type": "execute_result"
    }
   ],
   "source": [
    "# The classes are fairly balanced\n",
    "y_all.value_counts(normalize = True)"
   ]
  },
  {
   "cell_type": "code",
   "execution_count": 156,
   "metadata": {},
   "outputs": [
    {
     "data": {
      "text/plain": [
       "(142410,)"
      ]
     },
     "execution_count": 156,
     "metadata": {},
     "output_type": "execute_result"
    }
   ],
   "source": [
    "X_all.shape"
   ]
  },
  {
   "cell_type": "code",
   "execution_count": 157,
   "metadata": {},
   "outputs": [
    {
     "data": {
      "text/plain": [
       "0.8580085668141282"
      ]
     },
     "execution_count": 157,
     "metadata": {},
     "output_type": "execute_result"
    }
   ],
   "source": [
    "logreg_tvec_pipe.score(X_all, y_all)"
   ]
  },
  {
   "cell_type": "code",
   "execution_count": null,
   "metadata": {},
   "outputs": [],
   "source": []
  },
  {
   "cell_type": "markdown",
   "metadata": {},
   "source": [
    "We achieve nearly 86% accuracy! This shows that these two subreddits can be quite easily distinguished, and our model does a good job at generalizing. "
   ]
  },
  {
   "cell_type": "code",
   "execution_count": 162,
   "metadata": {},
   "outputs": [],
   "source": [
    "y_hat = logreg_tvec_pipe.predict(X_all)"
   ]
  },
  {
   "cell_type": "code",
   "execution_count": 164,
   "metadata": {},
   "outputs": [],
   "source": [
    "tn, fp, fn, tp = confusion_matrix(y_all, y_hat).ravel()"
   ]
  },
  {
   "cell_type": "code",
   "execution_count": 167,
   "metadata": {},
   "outputs": [
    {
     "data": {
      "text/plain": [
       "<sklearn.metrics._plot.confusion_matrix.ConfusionMatrixDisplay at 0x10337eeb8>"
      ]
     },
     "execution_count": 167,
     "metadata": {},
     "output_type": "execute_result"
    },
    {
     "data": {
      "image/png": "[encoded data removed]",
      "text/plain": [
       "<Figure size 432x288 with 2 Axes>"
      ]
     },
     "metadata": {
      "needs_background": "light"
     },
     "output_type": "display_data"
    }
   ],
   "source": [
    "plot_confusion_matrix(logreg_tvec_pipe, X_all, y_all, cmap=plt.cm.Blues, normalize = 'true')"
   ]
  },
  {
   "cell_type": "code",
   "execution_count": 168,
   "metadata": {},
   "outputs": [
    {
     "name": "stdout",
     "output_type": "stream",
     "text": [
      "Sensitivity/Recall (TPR): 0.9005004714586204\n",
      "Specificity (TNR): 0.8181422252466826\n",
      "Precision: 0.8228744134255945\n"
     ]
    }
   ],
   "source": [
    "print(f'Sensitivity/Recall (TPR): {tp/(tp+fn)}')\n",
    "print(f'Specificity (TNR): {tn/(tn+fp)}')\n",
    "print(f'Precision: {tp/(tp+fp)}')"
   ]
  },
  {
   "cell_type": "markdown",
   "metadata": {},
   "source": [
    "Our model has a sensitivity score of 0.9 and a specificity of 0.82, which indicates it is more accurate at classifying posts from physics than it is for math. This could be due to the fact that physics posts generally have more very specific physics related terms in them, while both math and physics posts contain mathematical terminology. "
   ]
  }
 ],
 "metadata": {
  "kernelspec": {
   "display_name": "Python 3",
   "language": "python",
   "name": "python3"
  },
  "language_info": {
   "codemirror_mode": {
    "name": "ipython",
    "version": 3
   },
   "file_extension": ".py",
   "mimetype": "text/x-python",
   "name": "python",
   "nbconvert_exporter": "python",
   "pygments_lexer": "ipython3",
   "version": "3.7.1"
  }
 },
 "nbformat": 4,
 "nbformat_minor": 4
}
