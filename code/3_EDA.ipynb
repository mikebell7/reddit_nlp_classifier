{
 "cells": [
  {
   "cell_type": "markdown",
   "metadata": {},
   "source": [
    "# General Assembly DSI 13 EC \n",
    "# Project 3 - Web APIs & NLP\n",
    "## Mike Bell \n",
    "### October 23, 2020"
   ]
  },
  {
   "cell_type": "markdown",
   "metadata": {},
   "source": [
    "## Notebook 3: Exploratory Data Analysis\n",
    "\n",
    "Here we do some basic EDA on our reddit post text dataset: We plot basis statistics/distributions about word count and post lengths for each subreddit, and then examine the most frequently used words and bigrams for each. \n"
   ]
  },
  {
   "cell_type": "code",
   "execution_count": 1,
   "metadata": {},
   "outputs": [],
   "source": [
    "import numpy as np\n",
    "import pandas as pd\n",
    "import matplotlib.pyplot as plt\n",
    "import seaborn as sns\n",
    "\n",
    "from nltk.sentiment.vader import SentimentIntensityAnalyzer\n",
    "from sklearn.feature_extraction.text import CountVectorizer, TfidfVectorizer\n",
    "\n",
    "%matplotlib inline\n",
    "pd.set_option('display.max_rows', 10000)\n",
    "pd.set_option('display.max_columns', 10000)"
   ]
  },
  {
   "cell_type": "code",
   "execution_count": 2,
   "metadata": {},
   "outputs": [],
   "source": [
    "subreddits = [ 'math', 'physics']\n",
    "\n",
    "subreddit_dir = f'../data/{subreddits[0]}_{subreddits[1]}_data/'"
   ]
  },
  {
   "cell_type": "code",
   "execution_count": 3,
   "metadata": {},
   "outputs": [],
   "source": [
    "df = pd.read_csv(f'{subreddit_dir}{subreddits[0]}_{subreddits[1]}_combined_lem.csv', keep_default_na = False)"
   ]
  },
  {
   "cell_type": "code",
   "execution_count": 4,
   "metadata": {},
   "outputs": [
    {
     "name": "stdout",
     "output_type": "stream",
     "text": [
      "<class 'pandas.core.frame.DataFrame'>\n",
      "RangeIndex: 2140 entries, 0 to 2139\n",
      "Data columns (total 5 columns):\n",
      " #   Column     Non-Null Count  Dtype \n",
      "---  ------     --------------  ----- \n",
      " 0   title      2140 non-null   object\n",
      " 1   selftext   2140 non-null   object\n",
      " 2   text       2140 non-null   object\n",
      " 3   lem_text   2140 non-null   object\n",
      " 4   subreddit  2140 non-null   int64 \n",
      "dtypes: int64(1), object(4)\n",
      "memory usage: 83.7+ KB\n"
     ]
    }
   ],
   "source": [
    "df.info()"
   ]
  },
  {
   "cell_type": "markdown",
   "metadata": {},
   "source": [
    "# Basic post length statistics\n",
    "\n",
    "Let's make some new statistics columns for the text in each post namely the number of characters (length) and word count (count), and get some basic statistics about each subreddit.\n"
   ]
  },
  {
   "cell_type": "code",
   "execution_count": 5,
   "metadata": {},
   "outputs": [],
   "source": [
    "df['length'] = df['text'].str.len()\n",
    "df['count'] = df['text'].map(lambda x : len(x.split()))\n",
    "df_0 = df[df['subreddit'] == 0]\n",
    "df_1 = df[df['subreddit'] == 1]"
   ]
  },
  {
   "cell_type": "code",
   "execution_count": 6,
   "metadata": {},
   "outputs": [
    {
     "data": {
      "text/html": [
       "<div>\n",
       "<style scoped>\n",
       "    .dataframe tbody tr th:only-of-type {\n",
       "        vertical-align: middle;\n",
       "    }\n",
       "\n",
       "    .dataframe tbody tr th {\n",
       "        vertical-align: top;\n",
       "    }\n",
       "\n",
       "    .dataframe thead th {\n",
       "        text-align: right;\n",
       "    }\n",
       "</style>\n",
       "<table border=\"1\" class=\"dataframe\">\n",
       "  <thead>\n",
       "    <tr style=\"text-align: right;\">\n",
       "      <th></th>\n",
       "      <th>subreddit</th>\n",
       "      <th>length</th>\n",
       "      <th>count</th>\n",
       "    </tr>\n",
       "  </thead>\n",
       "  <tbody>\n",
       "    <tr>\n",
       "      <th>count</th>\n",
       "      <td>1057.0</td>\n",
       "      <td>1057.000000</td>\n",
       "      <td>1057.00000</td>\n",
       "    </tr>\n",
       "    <tr>\n",
       "      <th>mean</th>\n",
       "      <td>0.0</td>\n",
       "      <td>338.568590</td>\n",
       "      <td>48.02649</td>\n",
       "    </tr>\n",
       "    <tr>\n",
       "      <th>std</th>\n",
       "      <td>0.0</td>\n",
       "      <td>431.280835</td>\n",
       "      <td>59.62094</td>\n",
       "    </tr>\n",
       "    <tr>\n",
       "      <th>min</th>\n",
       "      <td>0.0</td>\n",
       "      <td>6.000000</td>\n",
       "      <td>1.00000</td>\n",
       "    </tr>\n",
       "    <tr>\n",
       "      <th>25%</th>\n",
       "      <td>0.0</td>\n",
       "      <td>95.000000</td>\n",
       "      <td>14.00000</td>\n",
       "    </tr>\n",
       "    <tr>\n",
       "      <th>50%</th>\n",
       "      <td>0.0</td>\n",
       "      <td>218.000000</td>\n",
       "      <td>31.00000</td>\n",
       "    </tr>\n",
       "    <tr>\n",
       "      <th>75%</th>\n",
       "      <td>0.0</td>\n",
       "      <td>427.000000</td>\n",
       "      <td>60.00000</td>\n",
       "    </tr>\n",
       "    <tr>\n",
       "      <th>max</th>\n",
       "      <td>0.0</td>\n",
       "      <td>4850.000000</td>\n",
       "      <td>653.00000</td>\n",
       "    </tr>\n",
       "  </tbody>\n",
       "</table>\n",
       "</div>"
      ],
      "text/plain": [
       "       subreddit       length       count\n",
       "count     1057.0  1057.000000  1057.00000\n",
       "mean         0.0   338.568590    48.02649\n",
       "std          0.0   431.280835    59.62094\n",
       "min          0.0     6.000000     1.00000\n",
       "25%          0.0    95.000000    14.00000\n",
       "50%          0.0   218.000000    31.00000\n",
       "75%          0.0   427.000000    60.00000\n",
       "max          0.0  4850.000000   653.00000"
      ]
     },
     "execution_count": 6,
     "metadata": {},
     "output_type": "execute_result"
    }
   ],
   "source": [
    "df_0.describe()"
   ]
  },
  {
   "cell_type": "code",
   "execution_count": 7,
   "metadata": {},
   "outputs": [
    {
     "data": {
      "text/html": [
       "<div>\n",
       "<style scoped>\n",
       "    .dataframe tbody tr th:only-of-type {\n",
       "        vertical-align: middle;\n",
       "    }\n",
       "\n",
       "    .dataframe tbody tr th {\n",
       "        vertical-align: top;\n",
       "    }\n",
       "\n",
       "    .dataframe thead th {\n",
       "        text-align: right;\n",
       "    }\n",
       "</style>\n",
       "<table border=\"1\" class=\"dataframe\">\n",
       "  <thead>\n",
       "    <tr style=\"text-align: right;\">\n",
       "      <th></th>\n",
       "      <th>subreddit</th>\n",
       "      <th>length</th>\n",
       "      <th>count</th>\n",
       "    </tr>\n",
       "  </thead>\n",
       "  <tbody>\n",
       "    <tr>\n",
       "      <th>count</th>\n",
       "      <td>1083.0</td>\n",
       "      <td>1083.000000</td>\n",
       "      <td>1083.000000</td>\n",
       "    </tr>\n",
       "    <tr>\n",
       "      <th>mean</th>\n",
       "      <td>1.0</td>\n",
       "      <td>243.456140</td>\n",
       "      <td>34.007387</td>\n",
       "    </tr>\n",
       "    <tr>\n",
       "      <th>std</th>\n",
       "      <td>0.0</td>\n",
       "      <td>516.748939</td>\n",
       "      <td>76.382392</td>\n",
       "    </tr>\n",
       "    <tr>\n",
       "      <th>min</th>\n",
       "      <td>1.0</td>\n",
       "      <td>4.000000</td>\n",
       "      <td>1.000000</td>\n",
       "    </tr>\n",
       "    <tr>\n",
       "      <th>25%</th>\n",
       "      <td>1.0</td>\n",
       "      <td>55.000000</td>\n",
       "      <td>7.500000</td>\n",
       "    </tr>\n",
       "    <tr>\n",
       "      <th>50%</th>\n",
       "      <td>1.0</td>\n",
       "      <td>135.000000</td>\n",
       "      <td>19.000000</td>\n",
       "    </tr>\n",
       "    <tr>\n",
       "      <th>75%</th>\n",
       "      <td>1.0</td>\n",
       "      <td>295.000000</td>\n",
       "      <td>40.500000</td>\n",
       "    </tr>\n",
       "    <tr>\n",
       "      <th>max</th>\n",
       "      <td>1.0</td>\n",
       "      <td>14210.000000</td>\n",
       "      <td>2162.000000</td>\n",
       "    </tr>\n",
       "  </tbody>\n",
       "</table>\n",
       "</div>"
      ],
      "text/plain": [
       "       subreddit        length        count\n",
       "count     1083.0   1083.000000  1083.000000\n",
       "mean         1.0    243.456140    34.007387\n",
       "std          0.0    516.748939    76.382392\n",
       "min          1.0      4.000000     1.000000\n",
       "25%          1.0     55.000000     7.500000\n",
       "50%          1.0    135.000000    19.000000\n",
       "75%          1.0    295.000000    40.500000\n",
       "max          1.0  14210.000000  2162.000000"
      ]
     },
     "execution_count": 7,
     "metadata": {},
     "output_type": "execute_result"
    }
   ],
   "source": [
    "df_1.describe()"
   ]
  },
  {
   "cell_type": "markdown",
   "metadata": {},
   "source": [
    "We see that physics posts are on average shorter than math posts (averages of 321 for math, and 255 for physics), and that both subreddits have some large outliers in terms of post lengths. "
   ]
  },
  {
   "cell_type": "code",
   "execution_count": 8,
   "metadata": {},
   "outputs": [
    {
     "data": {
      "text/html": [
       "<div>\n",
       "<style scoped>\n",
       "    .dataframe tbody tr th:only-of-type {\n",
       "        vertical-align: middle;\n",
       "    }\n",
       "\n",
       "    .dataframe tbody tr th {\n",
       "        vertical-align: top;\n",
       "    }\n",
       "\n",
       "    .dataframe thead th {\n",
       "        text-align: right;\n",
       "    }\n",
       "</style>\n",
       "<table border=\"1\" class=\"dataframe\">\n",
       "  <thead>\n",
       "    <tr style=\"text-align: right;\">\n",
       "      <th></th>\n",
       "      <th>title</th>\n",
       "      <th>selftext</th>\n",
       "      <th>text</th>\n",
       "      <th>lem_text</th>\n",
       "      <th>subreddit</th>\n",
       "      <th>length</th>\n",
       "      <th>count</th>\n",
       "    </tr>\n",
       "  </thead>\n",
       "  <tbody>\n",
       "    <tr>\n",
       "      <th>75</th>\n",
       "      <td>paleolithic math ethno math understanding isha...</td>\n",
       "      <td>researching ishango lebombo bones widely under...</td>\n",
       "      <td>paleolithic math ethno math understanding isha...</td>\n",
       "      <td>paleolithic math ethno math understanding isha...</td>\n",
       "      <td>0</td>\n",
       "      <td>4434</td>\n",
       "      <td>541</td>\n",
       "    </tr>\n",
       "    <tr>\n",
       "      <th>722</th>\n",
       "      <td>humble probably misguided investigation connec...</td>\n",
       "      <td>hi last night decided start watching youtube v...</td>\n",
       "      <td>humble probably misguided investigation connec...</td>\n",
       "      <td>humble probably misguided investigation connec...</td>\n",
       "      <td>0</td>\n",
       "      <td>4850</td>\n",
       "      <td>653</td>\n",
       "    </tr>\n",
       "    <tr>\n",
       "      <th>2107</th>\n",
       "      <td>oak stone physics riddle draft looking suggest...</td>\n",
       "      <td>black screen first person view opens eyes old ...</td>\n",
       "      <td>oak stone physics riddle draft looking suggest...</td>\n",
       "      <td>oak stone physic riddle draft looking suggesti...</td>\n",
       "      <td>1</td>\n",
       "      <td>14210</td>\n",
       "      <td>2162</td>\n",
       "    </tr>\n",
       "  </tbody>\n",
       "</table>\n",
       "</div>"
      ],
      "text/plain": [
       "                                                  title  \\\n",
       "75    paleolithic math ethno math understanding isha...   \n",
       "722   humble probably misguided investigation connec...   \n",
       "2107  oak stone physics riddle draft looking suggest...   \n",
       "\n",
       "                                               selftext  \\\n",
       "75    researching ishango lebombo bones widely under...   \n",
       "722   hi last night decided start watching youtube v...   \n",
       "2107  black screen first person view opens eyes old ...   \n",
       "\n",
       "                                                   text  \\\n",
       "75    paleolithic math ethno math understanding isha...   \n",
       "722   humble probably misguided investigation connec...   \n",
       "2107  oak stone physics riddle draft looking suggest...   \n",
       "\n",
       "                                               lem_text  subreddit  length  \\\n",
       "75    paleolithic math ethno math understanding isha...          0    4434   \n",
       "722   humble probably misguided investigation connec...          0    4850   \n",
       "2107  oak stone physic riddle draft looking suggesti...          1   14210   \n",
       "\n",
       "      count  \n",
       "75      541  \n",
       "722     653  \n",
       "2107   2162  "
      ]
     },
     "execution_count": 8,
     "metadata": {},
     "output_type": "execute_result"
    }
   ],
   "source": [
    "# We have some posts with massively long text.. let's look at them\n",
    "\n",
    "df[df.length > 4000]"
   ]
  },
  {
   "cell_type": "code",
   "execution_count": 9,
   "metadata": {},
   "outputs": [
    {
     "data": {
      "text/plain": [
       "'humble probably misguided investigation connections additive identity non standard analysis hi last night decided start watching youtube video yes bored notion something unfamiliar already convinced multiple arguments drawn comments section unsurprisingly number dumbfounded people arguing concept decided try explain principle saw using perhaps clumsy visual metaphor trying zoom line able see difference emerge two ostensible points matter scale one zoomed course speaking rigorously math triggering fuck enthusiasts professionals alike attempted draft response would rigorously outline trying express turned much depth consideration topic originally planned decided going torn shreds something something actually represents something reasoning intuition comes math become aware gotchas way present topic would stand learn mainly course started draw connections subjects math interested like non standard analysis probably much controversial could stand someone knowledgeable subject review hope form frustrating way presented instead working directly quantities proof use geometrical concepts points midpoints line segments defined along single cartesian axis case would easily translatable conventionally algebraic language hope stands unclear present thank cartesian axis define two points b c different points suppose midpoint line segment ab let us define coordinate expansion coordinate b given length segment must equal length segment mb define mb ab know sub segments equal due definition midpoint also substitute ab therefore ab b equivalent expressing could present length ab given set ought equal ab therefore length line segment divided contradiction assuming b starts present imagine finite number say divided would equal good add another last digit lets try operation infinitely small quantity divided would apparently equal definition ellipses established entails every iteration decimal expansion last decimal included ellipses therefore following definition decimal expansion small quantity reminded could write ellipses supposed count every number last decimal contradiction equivalent saying equal quotient greater nonsensical consider last digits either number would normally agree generally would agree positive non zero number x greater x implies one two things either number taking form n n numerical digit impossible numbers special properties separate finite number less e separate decimal number way resolve contradiction established modifying original premise less b premise less equal b one solution case presented length segment ab divided equal length segment located coordinate coordinate b distance b likewise midpoint b distances b also solves problem number satisfies equation x x words b point primarily cannot conceive non zero positive number smaller without running contradiction possible conceive number iteration included ellipses truly infinite consequence becomes impossible define decimal representation rational numbers would claim example finite number decimal places n n times equivalent would decide number happens would add quantity smaller alternatively would construct logically consistent way handle cases could quantity smaller infinite decimal expansion finite number turns possible consequence define mean smaller much similar way would define number less square root negative number construct new set numbers define properties ways interact existing numerical sets non standard analysis defining hyperreal numbers defines set infinitesimal numbers larger hr smaller every positive real number defined special case infinitesimal reals alternatively non standard analysis imagines dimension infinitesimal numbers anchored every real number included point intersection set infinitesimals hr r smaller larger stop adequate ways treat matter define logic would reason philosophically would argue closely related additive identity arithmetic principle implies one way define identity number e closer number number sense infinitely close within set put another way captures essence proof attempted impossible formalize difference two supposed numbers one led conclude number extent one formalize difference cannot defined difference quantity domain must therefore difference kind e existing another domain run contradiction try imagine positive number smaller could productive instead pose become smaller case fact exit domain r become larger different kind numerical axis intersecting r number crosses threshold attempts become smaller r thing refers threshold crossed number becomes closer given number r possible reals smaller closer way conventionally understand always strictly speaking smallest hyperreal part real number number closest long remain reals rather quantity would grow newly imagined space perhaps suitably stated space perpendicular existing separate quantity representation reals'"
      ]
     },
     "execution_count": 9,
     "metadata": {},
     "output_type": "execute_result"
    }
   ],
   "source": [
    "df.loc[722,'text']"
   ]
  },
  {
   "cell_type": "code",
   "execution_count": null,
   "metadata": {},
   "outputs": [],
   "source": []
  },
  {
   "cell_type": "markdown",
   "metadata": {},
   "source": [
    "### I suppose these seem on-topic, let's leave them in ..\n",
    "\n",
    "Let's now plot the distribution of post length/word count by subreddit, and look at boxplots of the above stats."
   ]
  },
  {
   "cell_type": "markdown",
   "metadata": {},
   "source": [
    "### Post Length (character counts)"
   ]
  },
  {
   "cell_type": "code",
   "execution_count": 10,
   "metadata": {},
   "outputs": [
    {
     "name": "stderr",
     "output_type": "stream",
     "text": [
      "/Library/Frameworks/Python.framework/Versions/3.7/lib/python3.7/site-packages/numpy/core/_asarray.py:83: VisibleDeprecationWarning: Creating an ndarray from ragged nested sequences (which is a list-or-tuple of lists-or-tuples-or ndarrays with different lengths or shapes) is deprecated. If you meant to do this, you must specify 'dtype=object' when creating the ndarray\n",
      "  return array(a, dtype, copy=False, order=order)\n"
     ]
    },
    {
     "data": {
      "text/plain": [
       "Text(0.5, 0, 'post length')"
      ]
     },
     "execution_count": 10,
     "metadata": {},
     "output_type": "execute_result"
    },
    {
     "data": {
      "image/png": "[encoded data removed]",
      "text/plain": [
       "<Figure size 720x504 with 1 Axes>"
      ]
     },
     "metadata": {
      "needs_background": "light"
     },
     "output_type": "display_data"
    }
   ],
   "source": [
    "plt.figure(figsize = (10,7))\n",
    "plt.hist([df_0['length'], df_1['length']], bins = 300, label=['math', 'physics'])\n",
    "plt.axvline(df_0['length'].median(), color='C0', linestyle='dashed', linewidth=2)\n",
    "plt.axvline(df_1['length'].median(), color='C1', linestyle='dashed', linewidth=2)\n",
    "plt.xlim([0,1000])\n",
    "plt.legend()\n",
    "plt.title('Distribution of post lengths by subreddit')\n",
    "plt.xlabel('post length')"
   ]
  },
  {
   "cell_type": "code",
   "execution_count": 11,
   "metadata": {},
   "outputs": [
    {
     "data": {
      "text/plain": [
       "<matplotlib.legend.Legend at 0x1072914e0>"
      ]
     },
     "execution_count": 11,
     "metadata": {},
     "output_type": "execute_result"
    },
    {
     "data": {
      "image/png": "[encoded data removed]",
      "text/plain": [
       "<Figure size 720x576 with 1 Axes>"
      ]
     },
     "metadata": {
      "needs_background": "light"
     },
     "output_type": "display_data"
    }
   ],
   "source": [
    "plt.figure(figsize = (10,8))\n",
    "ax = sns.boxplot( x = 'subreddit', y=\"length\", hue=\"subreddit\", data=df[df['length'] < 1000], palette = {0:'steelblue', 1: 'darkorange'}, fliersize=0.5)\n",
    "plt.title('Post Length by Subreddit')\n",
    "handles, _ = ax.get_legend_handles_labels()\n",
    "plt.xticks([])\n",
    "ax.legend(handles, [\"math\", \"physics\"])"
   ]
  },
  {
   "cell_type": "markdown",
   "metadata": {},
   "source": [
    "## Word Counts"
   ]
  },
  {
   "cell_type": "code",
   "execution_count": 12,
   "metadata": {},
   "outputs": [
    {
     "name": "stderr",
     "output_type": "stream",
     "text": [
      "/Library/Frameworks/Python.framework/Versions/3.7/lib/python3.7/site-packages/numpy/core/_asarray.py:83: VisibleDeprecationWarning: Creating an ndarray from ragged nested sequences (which is a list-or-tuple of lists-or-tuples-or ndarrays with different lengths or shapes) is deprecated. If you meant to do this, you must specify 'dtype=object' when creating the ndarray\n",
      "  return array(a, dtype, copy=False, order=order)\n"
     ]
    },
    {
     "data": {
      "text/plain": [
       "Text(0.5, 0, 'Word Count')"
      ]
     },
     "execution_count": 12,
     "metadata": {},
     "output_type": "execute_result"
    },
    {
     "data": {
      "image/png": "[encoded data removed]",
      "text/plain": [
       "<Figure size 720x504 with 1 Axes>"
      ]
     },
     "metadata": {
      "needs_background": "light"
     },
     "output_type": "display_data"
    }
   ],
   "source": [
    "plt.figure(figsize = (10,7))\n",
    "plt.hist([df_0['count'], df_1['count']], bins = 200, label=['math', 'physics'])\n",
    "plt.xlim([0,300])\n",
    "plt.legend()\n",
    "plt.axvline(df_0['count'].median(), color='C0', linestyle='dashed', linewidth=2)\n",
    "plt.axvline(df_1['count'].median(), color='C1', linestyle='dashed', linewidth=2)\n",
    "plt.title('Distribution of word count by subreddit')\n",
    "plt.xlabel('Word Count')"
   ]
  },
  {
   "cell_type": "code",
   "execution_count": 13,
   "metadata": {},
   "outputs": [
    {
     "data": {
      "text/plain": [
       "<matplotlib.legend.Legend at 0x11ea6fef0>"
      ]
     },
     "execution_count": 13,
     "metadata": {},
     "output_type": "execute_result"
    },
    {
     "data": {
      "image/png": "[encoded data removed]",
      "text/plain": [
       "<Figure size 720x576 with 1 Axes>"
      ]
     },
     "metadata": {
      "needs_background": "light"
     },
     "output_type": "display_data"
    }
   ],
   "source": [
    "plt.figure(figsize = (10,8))\n",
    "ax = sns.boxplot( x = 'subreddit', y=\"count\", hue=\"subreddit\", data=df[df['count'] < 200], palette = {0:'steelblue', 1: 'darkorange'}, fliersize=0.5)\n",
    "plt.title('Word Count by subreddit')\n",
    "handles, _ = ax.get_legend_handles_labels()\n",
    "plt.xticks([])\n",
    "ax.legend(handles, [\"math\", \"physics\"])"
   ]
  },
  {
   "cell_type": "code",
   "execution_count": null,
   "metadata": {},
   "outputs": [],
   "source": []
  },
  {
   "cell_type": "markdown",
   "metadata": {},
   "source": [
    "# Common word/bigram analysis\n",
    "\n",
    "We use countvectorizer to determine which words and bigrams are used most frequently in both subreddits. "
   ]
  },
  {
   "cell_type": "code",
   "execution_count": 14,
   "metadata": {},
   "outputs": [],
   "source": [
    "max_words = 30 # how many of the top words to plot"
   ]
  },
  {
   "cell_type": "code",
   "execution_count": 46,
   "metadata": {},
   "outputs": [],
   "source": [
    "# Let's use count vectorizer to get word frequency statistics\n",
    "cvec = CountVectorizer(stop_words = 'english')"
   ]
  },
  {
   "cell_type": "code",
   "execution_count": 47,
   "metadata": {},
   "outputs": [
    {
     "data": {
      "text/plain": [
       "Text(0.5, 1.0, 'r/math 30 most common (lemmatized) words')"
      ]
     },
     "execution_count": 47,
     "metadata": {},
     "output_type": "execute_result"
    },
    {
     "data": {
      "image/png": "[encoded data removed]",
      "text/plain": [
       "<Figure size 720x720 with 1 Axes>"
      ]
     },
     "metadata": {
      "needs_background": "light"
     },
     "output_type": "display_data"
    }
   ],
   "source": [
    "# Top math words\n",
    "math_words = df_0['lem_text']\n",
    "math_words = cvec.fit_transform(df_0['lem_text'])\n",
    "math_words = pd.DataFrame(math_words.todense(), \n",
    "                          columns=cvec.get_feature_names())\n",
    "\n",
    "top_math_words = pd.DataFrame(math_words.sum().sort_values(ascending=False).head(max_words), columns = ['counts'])\n",
    "\n",
    "plt.figure(figsize = (10,10))\n",
    "sns.set_color_codes(\"pastel\")\n",
    "sns.barplot(data=top_math_words, y = top_math_words.index, x = 'counts')\n",
    "plt.title('r/math 30 most common (lemmatized) words')"
   ]
  },
  {
   "cell_type": "code",
   "execution_count": 17,
   "metadata": {},
   "outputs": [
    {
     "data": {
      "text/html": [
       "<div>\n",
       "<style scoped>\n",
       "    .dataframe tbody tr th:only-of-type {\n",
       "        vertical-align: middle;\n",
       "    }\n",
       "\n",
       "    .dataframe tbody tr th {\n",
       "        vertical-align: top;\n",
       "    }\n",
       "\n",
       "    .dataframe thead th {\n",
       "        text-align: right;\n",
       "    }\n",
       "</style>\n",
       "<table border=\"1\" class=\"dataframe\">\n",
       "  <thead>\n",
       "    <tr style=\"text-align: right;\">\n",
       "      <th></th>\n",
       "      <th>counts</th>\n",
       "    </tr>\n",
       "  </thead>\n",
       "  <tbody>\n",
       "    <tr>\n",
       "      <th>math</th>\n",
       "      <td>773</td>\n",
       "    </tr>\n",
       "    <tr>\n",
       "      <th>number</th>\n",
       "      <td>567</td>\n",
       "    </tr>\n",
       "    <tr>\n",
       "      <th>like</th>\n",
       "      <td>402</td>\n",
       "    </tr>\n",
       "    <tr>\n",
       "      <th>know</th>\n",
       "      <td>319</td>\n",
       "    </tr>\n",
       "    <tr>\n",
       "      <th>time</th>\n",
       "      <td>265</td>\n",
       "    </tr>\n",
       "    <tr>\n",
       "      <th>problem</th>\n",
       "      <td>253</td>\n",
       "    </tr>\n",
       "    <tr>\n",
       "      <th>question</th>\n",
       "      <td>226</td>\n",
       "    </tr>\n",
       "    <tr>\n",
       "      <th>function</th>\n",
       "      <td>224</td>\n",
       "    </tr>\n",
       "    <tr>\n",
       "      <th>really</th>\n",
       "      <td>183</td>\n",
       "    </tr>\n",
       "    <tr>\n",
       "      <th>point</th>\n",
       "      <td>179</td>\n",
       "    </tr>\n",
       "    <tr>\n",
       "      <th>want</th>\n",
       "      <td>175</td>\n",
       "    </tr>\n",
       "    <tr>\n",
       "      <th>set</th>\n",
       "      <td>175</td>\n",
       "    </tr>\n",
       "    <tr>\n",
       "      <th>way</th>\n",
       "      <td>172</td>\n",
       "    </tr>\n",
       "    <tr>\n",
       "      <th>theory</th>\n",
       "      <td>169</td>\n",
       "    </tr>\n",
       "    <tr>\n",
       "      <th>help</th>\n",
       "      <td>162</td>\n",
       "    </tr>\n",
       "    <tr>\n",
       "      <th>think</th>\n",
       "      <td>162</td>\n",
       "    </tr>\n",
       "    <tr>\n",
       "      <th>make</th>\n",
       "      <td>161</td>\n",
       "    </tr>\n",
       "    <tr>\n",
       "      <th>mathematics</th>\n",
       "      <td>156</td>\n",
       "    </tr>\n",
       "    <tr>\n",
       "      <th>proof</th>\n",
       "      <td>151</td>\n",
       "    </tr>\n",
       "    <tr>\n",
       "      <th>book</th>\n",
       "      <td>150</td>\n",
       "    </tr>\n",
       "    <tr>\n",
       "      <th>student</th>\n",
       "      <td>149</td>\n",
       "    </tr>\n",
       "    <tr>\n",
       "      <th>year</th>\n",
       "      <td>147</td>\n",
       "    </tr>\n",
       "    <tr>\n",
       "      <th>thing</th>\n",
       "      <td>146</td>\n",
       "    </tr>\n",
       "    <tr>\n",
       "      <th>class</th>\n",
       "      <td>146</td>\n",
       "    </tr>\n",
       "    <tr>\n",
       "      <th>course</th>\n",
       "      <td>144</td>\n",
       "    </tr>\n",
       "    <tr>\n",
       "      <th>equation</th>\n",
       "      <td>141</td>\n",
       "    </tr>\n",
       "    <tr>\n",
       "      <th>example</th>\n",
       "      <td>139</td>\n",
       "    </tr>\n",
       "    <tr>\n",
       "      <th>work</th>\n",
       "      <td>137</td>\n",
       "    </tr>\n",
       "    <tr>\n",
       "      <th>use</th>\n",
       "      <td>136</td>\n",
       "    </tr>\n",
       "    <tr>\n",
       "      <th>school</th>\n",
       "      <td>136</td>\n",
       "    </tr>\n",
       "  </tbody>\n",
       "</table>\n",
       "</div>"
      ],
      "text/plain": [
       "             counts\n",
       "math            773\n",
       "number          567\n",
       "like            402\n",
       "know            319\n",
       "time            265\n",
       "problem         253\n",
       "question        226\n",
       "function        224\n",
       "really          183\n",
       "point           179\n",
       "want            175\n",
       "set             175\n",
       "way             172\n",
       "theory          169\n",
       "help            162\n",
       "think           162\n",
       "make            161\n",
       "mathematics     156\n",
       "proof           151\n",
       "book            150\n",
       "student         149\n",
       "year            147\n",
       "thing           146\n",
       "class           146\n",
       "course          144\n",
       "equation        141\n",
       "example         139\n",
       "work            137\n",
       "use             136\n",
       "school          136"
      ]
     },
     "execution_count": 17,
     "metadata": {},
     "output_type": "execute_result"
    }
   ],
   "source": [
    "top_math_words"
   ]
  },
  {
   "cell_type": "code",
   "execution_count": 48,
   "metadata": {},
   "outputs": [
    {
     "data": {
      "text/plain": [
       "Text(0.5, 1.0, 'r/physics 30 most common (lemmatized) words')"
      ]
     },
     "execution_count": 48,
     "metadata": {},
     "output_type": "execute_result"
    },
    {
     "data": {
      "image/png": "[encoded data removed]",
      "text/plain": [
       "<Figure size 720x720 with 1 Axes>"
      ]
     },
     "metadata": {
      "needs_background": "light"
     },
     "output_type": "display_data"
    }
   ],
   "source": [
    "# Top physics words\n",
    "physics_words = df_1['lem_text']\n",
    "physics_words = cvec.fit_transform(df_1['lem_text'])\n",
    "physics_words = pd.DataFrame(physics_words.todense(), \n",
    "                          columns=cvec.get_feature_names())\n",
    "\n",
    "top_physics_words = pd.DataFrame(physics_words.sum().sort_values(ascending=False).head(max_words), columns = ['counts'])\n",
    "\n",
    "plt.figure(figsize = (10,10))\n",
    "sns.set_color_codes(\"pastel\")\n",
    "sns.barplot(data=top_physics_words, y = top_physics_words.index, x = 'counts')\n",
    "plt.title('r/physics 30 most common (lemmatized) words')"
   ]
  },
  {
   "cell_type": "code",
   "execution_count": 19,
   "metadata": {},
   "outputs": [
    {
     "data": {
      "text/html": [
       "<div>\n",
       "<style scoped>\n",
       "    .dataframe tbody tr th:only-of-type {\n",
       "        vertical-align: middle;\n",
       "    }\n",
       "\n",
       "    .dataframe tbody tr th {\n",
       "        vertical-align: top;\n",
       "    }\n",
       "\n",
       "    .dataframe thead th {\n",
       "        text-align: right;\n",
       "    }\n",
       "</style>\n",
       "<table border=\"1\" class=\"dataframe\">\n",
       "  <thead>\n",
       "    <tr style=\"text-align: right;\">\n",
       "      <th></th>\n",
       "      <th>counts</th>\n",
       "    </tr>\n",
       "  </thead>\n",
       "  <tbody>\n",
       "    <tr>\n",
       "      <th>physic</th>\n",
       "      <td>673</td>\n",
       "    </tr>\n",
       "    <tr>\n",
       "      <th>time</th>\n",
       "      <td>344</td>\n",
       "    </tr>\n",
       "    <tr>\n",
       "      <th>know</th>\n",
       "      <td>265</td>\n",
       "    </tr>\n",
       "    <tr>\n",
       "      <th>question</th>\n",
       "      <td>242</td>\n",
       "    </tr>\n",
       "    <tr>\n",
       "      <th>like</th>\n",
       "      <td>238</td>\n",
       "    </tr>\n",
       "    <tr>\n",
       "      <th>help</th>\n",
       "      <td>191</td>\n",
       "    </tr>\n",
       "    <tr>\n",
       "      <th>energy</th>\n",
       "      <td>179</td>\n",
       "    </tr>\n",
       "    <tr>\n",
       "      <th>quantum</th>\n",
       "      <td>157</td>\n",
       "    </tr>\n",
       "    <tr>\n",
       "      <th>light</th>\n",
       "      <td>154</td>\n",
       "    </tr>\n",
       "    <tr>\n",
       "      <th>work</th>\n",
       "      <td>151</td>\n",
       "    </tr>\n",
       "    <tr>\n",
       "      <th>need</th>\n",
       "      <td>136</td>\n",
       "    </tr>\n",
       "    <tr>\n",
       "      <th>make</th>\n",
       "      <td>134</td>\n",
       "    </tr>\n",
       "    <tr>\n",
       "      <th>want</th>\n",
       "      <td>132</td>\n",
       "    </tr>\n",
       "    <tr>\n",
       "      <th>particle</th>\n",
       "      <td>123</td>\n",
       "    </tr>\n",
       "    <tr>\n",
       "      <th>thing</th>\n",
       "      <td>121</td>\n",
       "    </tr>\n",
       "    <tr>\n",
       "      <th>year</th>\n",
       "      <td>119</td>\n",
       "    </tr>\n",
       "    <tr>\n",
       "      <th>object</th>\n",
       "      <td>116</td>\n",
       "    </tr>\n",
       "    <tr>\n",
       "      <th>really</th>\n",
       "      <td>116</td>\n",
       "    </tr>\n",
       "    <tr>\n",
       "      <th>way</th>\n",
       "      <td>115</td>\n",
       "    </tr>\n",
       "    <tr>\n",
       "      <th>field</th>\n",
       "      <td>114</td>\n",
       "    </tr>\n",
       "    <tr>\n",
       "      <th>speed</th>\n",
       "      <td>114</td>\n",
       "    </tr>\n",
       "    <tr>\n",
       "      <th>force</th>\n",
       "      <td>112</td>\n",
       "    </tr>\n",
       "    <tr>\n",
       "      <th>space</th>\n",
       "      <td>111</td>\n",
       "    </tr>\n",
       "    <tr>\n",
       "      <th>understand</th>\n",
       "      <td>106</td>\n",
       "    </tr>\n",
       "    <tr>\n",
       "      <th>theory</th>\n",
       "      <td>104</td>\n",
       "    </tr>\n",
       "    <tr>\n",
       "      <th>school</th>\n",
       "      <td>103</td>\n",
       "    </tr>\n",
       "    <tr>\n",
       "      <th>point</th>\n",
       "      <td>92</td>\n",
       "    </tr>\n",
       "    <tr>\n",
       "      <th>think</th>\n",
       "      <td>92</td>\n",
       "    </tr>\n",
       "    <tr>\n",
       "      <th>velocity</th>\n",
       "      <td>90</td>\n",
       "    </tr>\n",
       "    <tr>\n",
       "      <th>universe</th>\n",
       "      <td>89</td>\n",
       "    </tr>\n",
       "  </tbody>\n",
       "</table>\n",
       "</div>"
      ],
      "text/plain": [
       "            counts\n",
       "physic         673\n",
       "time           344\n",
       "know           265\n",
       "question       242\n",
       "like           238\n",
       "help           191\n",
       "energy         179\n",
       "quantum        157\n",
       "light          154\n",
       "work           151\n",
       "need           136\n",
       "make           134\n",
       "want           132\n",
       "particle       123\n",
       "thing          121\n",
       "year           119\n",
       "object         116\n",
       "really         116\n",
       "way            115\n",
       "field          114\n",
       "speed          114\n",
       "force          112\n",
       "space          111\n",
       "understand     106\n",
       "theory         104\n",
       "school         103\n",
       "point           92\n",
       "think           92\n",
       "velocity        90\n",
       "universe        89"
      ]
     },
     "execution_count": 19,
     "metadata": {},
     "output_type": "execute_result"
    }
   ],
   "source": [
    "top_physics_words"
   ]
  },
  {
   "cell_type": "code",
   "execution_count": 20,
   "metadata": {},
   "outputs": [],
   "source": [
    "# Lets look at which words they have in common / difference "
   ]
  },
  {
   "cell_type": "code",
   "execution_count": 49,
   "metadata": {},
   "outputs": [
    {
     "data": {
      "text/plain": [
       "['want',\n",
       " 'know',\n",
       " 'theory',\n",
       " 'thing',\n",
       " 'school',\n",
       " 'help',\n",
       " 'work',\n",
       " 'time',\n",
       " 'question',\n",
       " 'think',\n",
       " 'point',\n",
       " 'year',\n",
       " 'way',\n",
       " 'make',\n",
       " 'really',\n",
       " 'like']"
      ]
     },
     "execution_count": 49,
     "metadata": {},
     "output_type": "execute_result"
    }
   ],
   "source": [
    "list(set(top_physics_words.index) & set(top_math_words.index))"
   ]
  },
  {
   "cell_type": "code",
   "execution_count": 50,
   "metadata": {},
   "outputs": [
    {
     "data": {
      "text/plain": [
       "['example',\n",
       " 'mathematics',\n",
       " 'function',\n",
       " 'book',\n",
       " 'class',\n",
       " 'student',\n",
       " 'problem',\n",
       " 'use',\n",
       " 'math',\n",
       " 'set',\n",
       " 'course',\n",
       " 'proof',\n",
       " 'equation',\n",
       " 'number']"
      ]
     },
     "execution_count": 50,
     "metadata": {},
     "output_type": "execute_result"
    }
   ],
   "source": [
    "list(set(top_math_words.index).difference(set(top_physics_words.index)))"
   ]
  },
  {
   "cell_type": "code",
   "execution_count": 51,
   "metadata": {},
   "outputs": [
    {
     "data": {
      "text/plain": [
       "['quantum',\n",
       " 'object',\n",
       " 'velocity',\n",
       " 'space',\n",
       " 'field',\n",
       " 'speed',\n",
       " 'understand',\n",
       " 'particle',\n",
       " 'universe',\n",
       " 'light',\n",
       " 'energy',\n",
       " 'need',\n",
       " 'physic',\n",
       " 'force']"
      ]
     },
     "execution_count": 51,
     "metadata": {},
     "output_type": "execute_result"
    }
   ],
   "source": [
    "list(set(top_physics_words.index).difference(set(top_math_words.index)))"
   ]
  },
  {
   "cell_type": "markdown",
   "metadata": {},
   "source": [
    "### Bigrams\n",
    "To find the most common bigrams, let's instantiate another CountVectorizer but limit the ngram_range to 2"
   ]
  },
  {
   "cell_type": "code",
   "execution_count": 52,
   "metadata": {},
   "outputs": [],
   "source": [
    "cvec = CountVectorizer(ngram_range=(2,2))"
   ]
  },
  {
   "cell_type": "code",
   "execution_count": 53,
   "metadata": {},
   "outputs": [
    {
     "data": {
      "text/plain": [
       "Text(0.5, 1.0, 'r/math 30 most common (lemmatized) bigrams')"
      ]
     },
     "execution_count": 53,
     "metadata": {},
     "output_type": "execute_result"
    },
    {
     "data": {
      "image/png": "[encoded data removed]",
      "text/plain": [
       "<Figure size 720x720 with 1 Axes>"
      ]
     },
     "metadata": {
      "needs_background": "light"
     },
     "output_type": "display_data"
    }
   ],
   "source": [
    "# Top math bigrams\n",
    "math_bigrams = df_0['lem_text']\n",
    "math_bigrams = cvec.fit_transform(df_0['lem_text'])\n",
    "math_bigrams = pd.DataFrame(math_bigrams.todense(), \n",
    "                          columns=cvec.get_feature_names())\n",
    "\n",
    "top_math_bigrams = pd.DataFrame(math_bigrams.sum().sort_values(ascending=False).head(max_words), columns = ['counts'])\n",
    "\n",
    "plt.figure(figsize = (10,10))\n",
    "sns.set_color_codes(\"pastel\")\n",
    "sns.barplot(data=top_math_bigrams, y = top_math_bigrams.index, x = 'counts')\n",
    "plt.title('r/math 30 most common (lemmatized) bigrams')"
   ]
  },
  {
   "cell_type": "code",
   "execution_count": 54,
   "metadata": {},
   "outputs": [
    {
     "data": {
      "text/plain": [
       "Text(0.5, 1.0, 'r/physics 30 most common (lemmatized) bigrams')"
      ]
     },
     "execution_count": 54,
     "metadata": {},
     "output_type": "execute_result"
    },
    {
     "data": {
      "image/png": "[encoded data removed]",
      "text/plain": [
       "<Figure size 720x720 with 1 Axes>"
      ]
     },
     "metadata": {
      "needs_background": "light"
     },
     "output_type": "display_data"
    }
   ],
   "source": [
    "# Top physics bigrams\n",
    "physics_bigrams = df_1['lem_text']\n",
    "physics_bigrams = cvec.fit_transform(df_1['lem_text'])\n",
    "physics_bigrams = pd.DataFrame(physics_bigrams.todense(), \n",
    "                          columns=cvec.get_feature_names())\n",
    "\n",
    "top_physics_bigrams = pd.DataFrame(physics_bigrams.sum().sort_values(ascending=False).head(max_words), columns = ['counts'])\n",
    "\n",
    "plt.figure(figsize = (10,10))\n",
    "sns.set_color_codes(\"pastel\")\n",
    "sns.barplot(data=top_physics_bigrams, y = top_physics_bigrams.index, x = 'counts')\n",
    "plt.title('r/physics 30 most common (lemmatized) bigrams')"
   ]
  },
  {
   "cell_type": "markdown",
   "metadata": {},
   "source": [
    "The bigrams seemt to carry much more information than single words, we see distinctive subject-related words such as 'linear algebra' and 'black hole' show up. These will likely be very useful when it comes to classification, which we move onto in the next file."
   ]
  },
  {
   "cell_type": "code",
   "execution_count": 76,
   "metadata": {},
   "outputs": [
    {
     "data": {
      "text/plain": [
       "Text(0.5, 1.0, 'Top r/physics Bigrams')"
      ]
     },
     "execution_count": 76,
     "metadata": {},
     "output_type": "execute_result"
    },
    {
     "data": {
      "image/png": "[encoded data removed]",
      "text/plain": [
       "<Figure size 720x720 with 4 Axes>"
      ]
     },
     "metadata": {
      "needs_background": "light"
     },
     "output_type": "display_data"
    }
   ],
   "source": [
    "fig, axes = plt.subplots(2,2, figsize = (10,10))\n",
    "fig.tight_layout(w_pad=10.0, h_pad=4.0)\n",
    "sns.barplot(data=top_math_words[:20], y = top_math_words.index[:20], x = 'counts', ax = axes[0,0]).set_title('Top r/math Words')\n",
    "sns.barplot(data=top_math_bigrams[:20], y = top_math_bigrams.index[:20], x = 'counts', ax = axes[1,0]).set_title('Top r/math Bigrams')\n",
    "sns.barplot(data=top_physics_words[:20], y = top_physics_words.index[:20], x = 'counts', ax = axes[0,1]).set_title('Top r/physics Words')\n",
    "sns.barplot(data=top_physics_bigrams[:20], y = top_physics_bigrams.index[:20], x = 'counts', ax = axes[1,1]).set_title('Top r/physics Bigrams')"
   ]
  },
  {
   "cell_type": "code",
   "execution_count": 44,
   "metadata": {},
   "outputs": [
    {
     "data": {
      "text/html": [
       "<div>\n",
       "<style scoped>\n",
       "    .dataframe tbody tr th:only-of-type {\n",
       "        vertical-align: middle;\n",
       "    }\n",
       "\n",
       "    .dataframe tbody tr th {\n",
       "        vertical-align: top;\n",
       "    }\n",
       "\n",
       "    .dataframe thead th {\n",
       "        text-align: right;\n",
       "    }\n",
       "</style>\n",
       "<table border=\"1\" class=\"dataframe\">\n",
       "  <thead>\n",
       "    <tr style=\"text-align: right;\">\n",
       "      <th></th>\n",
       "      <th>counts</th>\n",
       "    </tr>\n",
       "  </thead>\n",
       "  <tbody>\n",
       "    <tr>\n",
       "      <th>nu nu</th>\n",
       "      <td>53</td>\n",
       "    </tr>\n",
       "    <tr>\n",
       "      <th>feel like</th>\n",
       "      <td>51</td>\n",
       "    </tr>\n",
       "    <tr>\n",
       "      <th>high school</th>\n",
       "      <td>49</td>\n",
       "    </tr>\n",
       "    <tr>\n",
       "      <th>infty norm</th>\n",
       "      <td>39</td>\n",
       "    </tr>\n",
       "    <tr>\n",
       "      <th>set subgradients</th>\n",
       "      <td>36</td>\n",
       "    </tr>\n",
       "    <tr>\n",
       "      <th>would like</th>\n",
       "      <td>35</td>\n",
       "    </tr>\n",
       "    <tr>\n",
       "      <th>linear algebra</th>\n",
       "      <td>34</td>\n",
       "    </tr>\n",
       "    <tr>\n",
       "      <th>differential equation</th>\n",
       "      <td>33</td>\n",
       "    </tr>\n",
       "    <tr>\n",
       "      <th>make sense</th>\n",
       "      <td>30</td>\n",
       "    </tr>\n",
       "    <tr>\n",
       "      <th>subgradients infty</th>\n",
       "      <td>29</td>\n",
       "    </tr>\n",
       "    <tr>\n",
       "      <th>prime number</th>\n",
       "      <td>27</td>\n",
       "    </tr>\n",
       "    <tr>\n",
       "      <th>square root</th>\n",
       "      <td>25</td>\n",
       "    </tr>\n",
       "    <tr>\n",
       "      <th>let say</th>\n",
       "      <td>24</td>\n",
       "    </tr>\n",
       "    <tr>\n",
       "      <th>anyone know</th>\n",
       "      <td>24</td>\n",
       "    </tr>\n",
       "    <tr>\n",
       "      <th>computer science</th>\n",
       "      <td>23</td>\n",
       "    </tr>\n",
       "    <tr>\n",
       "      <th>number theory</th>\n",
       "      <td>23</td>\n",
       "    </tr>\n",
       "    <tr>\n",
       "      <th>natural number</th>\n",
       "      <td>23</td>\n",
       "    </tr>\n",
       "    <tr>\n",
       "      <th>real analysis</th>\n",
       "      <td>22</td>\n",
       "    </tr>\n",
       "    <tr>\n",
       "      <th>seems like</th>\n",
       "      <td>20</td>\n",
       "    </tr>\n",
       "    <tr>\n",
       "      <th>real number</th>\n",
       "      <td>20</td>\n",
       "    </tr>\n",
       "    <tr>\n",
       "      <th>math course</th>\n",
       "      <td>20</td>\n",
       "    </tr>\n",
       "    <tr>\n",
       "      <th>reduced sum</th>\n",
       "      <td>19</td>\n",
       "    </tr>\n",
       "    <tr>\n",
       "      <th>chain rule</th>\n",
       "      <td>19</td>\n",
       "    </tr>\n",
       "    <tr>\n",
       "      <th>look like</th>\n",
       "      <td>19</td>\n",
       "    </tr>\n",
       "    <tr>\n",
       "      <th>paper claim</th>\n",
       "      <td>19</td>\n",
       "    </tr>\n",
       "    <tr>\n",
       "      <th>math class</th>\n",
       "      <td>19</td>\n",
       "    </tr>\n",
       "    <tr>\n",
       "      <th>thing like</th>\n",
       "      <td>17</td>\n",
       "    </tr>\n",
       "    <tr>\n",
       "      <th>want know</th>\n",
       "      <td>17</td>\n",
       "    </tr>\n",
       "    <tr>\n",
       "      <th>something like</th>\n",
       "      <td>17</td>\n",
       "    </tr>\n",
       "    <tr>\n",
       "      <th>pure math</th>\n",
       "      <td>17</td>\n",
       "    </tr>\n",
       "  </tbody>\n",
       "</table>\n",
       "</div>"
      ],
      "text/plain": [
       "                       counts\n",
       "nu nu                      53\n",
       "feel like                  51\n",
       "high school                49\n",
       "infty norm                 39\n",
       "set subgradients           36\n",
       "would like                 35\n",
       "linear algebra             34\n",
       "differential equation      33\n",
       "make sense                 30\n",
       "subgradients infty         29\n",
       "prime number               27\n",
       "square root                25\n",
       "let say                    24\n",
       "anyone know                24\n",
       "computer science           23\n",
       "number theory              23\n",
       "natural number             23\n",
       "real analysis              22\n",
       "seems like                 20\n",
       "real number                20\n",
       "math course                20\n",
       "reduced sum                19\n",
       "chain rule                 19\n",
       "look like                  19\n",
       "paper claim                19\n",
       "math class                 19\n",
       "thing like                 17\n",
       "want know                  17\n",
       "something like             17\n",
       "pure math                  17"
      ]
     },
     "execution_count": 44,
     "metadata": {},
     "output_type": "execute_result"
    }
   ],
   "source": [
    "top_math_words"
   ]
  },
  {
   "cell_type": "code",
   "execution_count": null,
   "metadata": {},
   "outputs": [],
   "source": []
  }
 ],
 "metadata": {
  "kernelspec": {
   "display_name": "Python 3",
   "language": "python",
   "name": "python3"
  },
  "language_info": {
   "codemirror_mode": {
    "name": "ipython",
    "version": 3
   },
   "file_extension": ".py",
   "mimetype": "text/x-python",
   "name": "python",
   "nbconvert_exporter": "python",
   "pygments_lexer": "ipython3",
   "version": "3.9.5"
  }
 },
 "nbformat": 4,
 "nbformat_minor": 4
}
